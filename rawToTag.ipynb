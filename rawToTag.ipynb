{
  "nbformat": 4,
  "nbformat_minor": 0,
  "metadata": {
    "colab": {
      "provenance": []
    },
    "kernelspec": {
      "name": "python3",
      "display_name": "Python 3"
    },
    "language_info": {
      "name": "python"
    }
  },
  "cells": [
    {
      "cell_type": "code",
      "execution_count": null,
      "metadata": {
        "id": "qJWZkYaMhLDx"
      },
      "outputs": [],
      "source": [
        "!pip install konlpy\n"
      ]
    },
    {
      "cell_type": "code",
      "source": [
        "from konlpy.tag import Komoran\n",
        "\n",
        "komoran = Komoran()\n",
        "file = open('raw_tagtxt.txt','r',encoding='utf-8')\n",
        "total_lines = file.readlines()\n",
        "\n",
        "testlst = []\n",
        "for line in total_lines:\n",
        "  testlst.append(line)\n",
        "file.close()\n",
        "\n",
        "sentences_tag = []\n",
        "\n",
        "\n"
      ],
      "metadata": {
        "id": "GeXk7oXYhVWx"
      },
      "execution_count": 23,
      "outputs": []
    },
    {
      "cell_type": "markdown",
      "source": [
        "NN 명사\n",
        "NP 대명사\n",
        "VV 동사\n",
        "VA 형용사\n",
        "VX 보조용언\n",
        "VC 지정사\n",
        "https://komorandocs.readthedocs.io/ko/latest/firststep/postypes.html"
      ],
      "metadata": {
        "id": "Rl1ycwJhuU1R"
      }
    },
    {
      "cell_type": "code",
      "source": [
        "for text in testlst:\n",
        "  pos_result = komoran.pos(text)\n",
        "  sentences_tag.append(pos_result)\n",
        "  print(pos_result)"
      ],
      "metadata": {
        "id": "z1k-J_gViabx"
      },
      "execution_count": null,
      "outputs": []
    },
    {
      "cell_type": "code",
      "source": [
        "bucket_list = []\n",
        "for my_sentence in sentences_tag:\n",
        "  for word, tag in my_sentence:\n",
        "    if tag in ['NN','NNP','VA','XR']:\n",
        "      bucket_list.append(word)\n",
        "      #명사 & 형용사 출력 모듈\n",
        "print(bucket_list)"
      ],
      "metadata": {
        "id": "op9mp24dkdjs"
      },
      "execution_count": null,
      "outputs": []
    },
    {
      "cell_type": "code",
      "source": [
        "from collections import Counter\n",
        "counts = Counter(bucket_list)\n",
        "print(len(counts))\n",
        "print(counts.most_common(10))"
      ],
      "metadata": {
        "colab": {
          "base_uri": "https://localhost:8080/"
        },
        "id": "V6B2nRT0qf5d",
        "outputId": "332fe23d-b088-451e-e4b7-5551da5ff368"
      },
      "execution_count": 54,
      "outputs": [
        {
          "output_type": "stream",
          "name": "stdout",
          "text": [
            "838\n",
            "[('막걸리', 119), ('부드럽', 79), ('좋', 61), ('발효', 55), ('주', 53), ('숙성', 47), ('와인', 46), ('누룩', 45), ('단맛', 38), ('깔끔', 35)]\n"
          ]
        }
      ]
    }
  ]
}