{
  "nbformat": 4,
  "nbformat_minor": 0,
  "metadata": {
    "colab": {
      "provenance": []
    },
    "kernelspec": {
      "name": "python3",
      "display_name": "Python 3"
    },
    "language_info": {
      "name": "python"
    }
  },
  "cells": [
    {
      "cell_type": "code",
      "execution_count": 1,
      "metadata": {
        "colab": {
          "base_uri": "https://localhost:8080/"
        },
        "id": "6Vb-Wrzp93HA",
        "outputId": "542eed82-e342-466f-8f71-a829a91f669a"
      },
      "outputs": [
        {
          "output_type": "stream",
          "name": "stdout",
          "text": [
            "Collecting openai\n",
            "  Downloading openai-1.3.3-py3-none-any.whl (220 kB)\n",
            "\u001b[?25l     \u001b[90m━━━━━━━━━━━━━━━━━━━━━━━━━━━━━━━━━━━━━━━━\u001b[0m \u001b[32m0.0/220.3 kB\u001b[0m \u001b[31m?\u001b[0m eta \u001b[36m-:--:--\u001b[0m\r\u001b[2K     \u001b[91m━━━━━━━━━━━━━━━━\u001b[0m\u001b[91m╸\u001b[0m\u001b[90m━━━━━━━━━━━━━━━━━━━━━━━\u001b[0m \u001b[32m92.2/220.3 kB\u001b[0m \u001b[31m2.7 MB/s\u001b[0m eta \u001b[36m0:00:01\u001b[0m\r\u001b[2K     \u001b[90m━━━━━━━━━━━━━━━━━━━━━━━━━━━━━━━━━━━━━━━━\u001b[0m \u001b[32m220.3/220.3 kB\u001b[0m \u001b[31m4.6 MB/s\u001b[0m eta \u001b[36m0:00:00\u001b[0m\n",
            "\u001b[?25hRequirement already satisfied: anyio<4,>=3.5.0 in /usr/local/lib/python3.10/dist-packages (from openai) (3.7.1)\n",
            "Requirement already satisfied: distro<2,>=1.7.0 in /usr/lib/python3/dist-packages (from openai) (1.7.0)\n",
            "Collecting httpx<1,>=0.23.0 (from openai)\n",
            "  Downloading httpx-0.25.1-py3-none-any.whl (75 kB)\n",
            "\u001b[2K     \u001b[90m━━━━━━━━━━━━━━━━━━━━━━━━━━━━━━━━━━━━━━━━\u001b[0m \u001b[32m75.0/75.0 kB\u001b[0m \u001b[31m11.8 MB/s\u001b[0m eta \u001b[36m0:00:00\u001b[0m\n",
            "\u001b[?25hRequirement already satisfied: pydantic<3,>=1.9.0 in /usr/local/lib/python3.10/dist-packages (from openai) (1.10.13)\n",
            "Requirement already satisfied: tqdm>4 in /usr/local/lib/python3.10/dist-packages (from openai) (4.66.1)\n",
            "Requirement already satisfied: typing-extensions<5,>=4.5 in /usr/local/lib/python3.10/dist-packages (from openai) (4.5.0)\n",
            "Requirement already satisfied: idna>=2.8 in /usr/local/lib/python3.10/dist-packages (from anyio<4,>=3.5.0->openai) (3.4)\n",
            "Requirement already satisfied: sniffio>=1.1 in /usr/local/lib/python3.10/dist-packages (from anyio<4,>=3.5.0->openai) (1.3.0)\n",
            "Requirement already satisfied: exceptiongroup in /usr/local/lib/python3.10/dist-packages (from anyio<4,>=3.5.0->openai) (1.1.3)\n",
            "Requirement already satisfied: certifi in /usr/local/lib/python3.10/dist-packages (from httpx<1,>=0.23.0->openai) (2023.7.22)\n",
            "Collecting httpcore (from httpx<1,>=0.23.0->openai)\n",
            "  Downloading httpcore-1.0.2-py3-none-any.whl (76 kB)\n",
            "\u001b[2K     \u001b[90m━━━━━━━━━━━━━━━━━━━━━━━━━━━━━━━━━━━━━━━━\u001b[0m \u001b[32m76.9/76.9 kB\u001b[0m \u001b[31m9.7 MB/s\u001b[0m eta \u001b[36m0:00:00\u001b[0m\n",
            "\u001b[?25hCollecting h11<0.15,>=0.13 (from httpcore->httpx<1,>=0.23.0->openai)\n",
            "  Downloading h11-0.14.0-py3-none-any.whl (58 kB)\n",
            "\u001b[2K     \u001b[90m━━━━━━━━━━━━━━━━━━━━━━━━━━━━━━━━━━━━━━━━\u001b[0m \u001b[32m58.3/58.3 kB\u001b[0m \u001b[31m9.6 MB/s\u001b[0m eta \u001b[36m0:00:00\u001b[0m\n",
            "\u001b[?25hInstalling collected packages: h11, httpcore, httpx, openai\n",
            "\u001b[31mERROR: pip's dependency resolver does not currently take into account all the packages that are installed. This behaviour is the source of the following dependency conflicts.\n",
            "llmx 0.0.15a0 requires cohere, which is not installed.\n",
            "llmx 0.0.15a0 requires tiktoken, which is not installed.\u001b[0m\u001b[31m\n",
            "\u001b[0mSuccessfully installed h11-0.14.0 httpcore-1.0.2 httpx-0.25.1 openai-1.3.3\n"
          ]
        }
      ],
      "source": [
        "!pip install openai"
      ]
    },
    {
      "cell_type": "code",
      "source": [
        "import os\n",
        "import openai\n",
        "import json\n",
        "import csv\n",
        "import pandas as pd\n",
        "\n",
        "f = open(\"chatgptkey.txt\", 'r')\n",
        "line = f.readline()\n",
        "openai.api_key = line\n",
        "\n",
        "\n"
      ],
      "metadata": {
        "id": "kRQM_Nbn-c-m"
      },
      "execution_count": 2,
      "outputs": []
    },
    {
      "cell_type": "code",
      "source": [
        "from openai import OpenAI\n",
        "client = OpenAI(\n",
        "    # defaults to os.environ.get(\"OPENAI_API_KEY\")\n",
        "    api_key=openai.api_key\n",
        ")"
      ],
      "metadata": {
        "id": "LQrG0N7BKWho"
      },
      "execution_count": 3,
      "outputs": []
    },
    {
      "cell_type": "code",
      "source": [
        "df1 = pd.read_csv('drinkdata.csv')\n",
        "frame=pd.DataFrame(df1)\n"
      ],
      "metadata": {
        "id": "L4ACp1ZxFMYf"
      },
      "execution_count": 4,
      "outputs": []
    },
    {
      "cell_type": "markdown",
      "source": [
        "state를 실시간으로 저장하면서 진행하고 싶으니까 index와 배열 상태를 저장하면서 진행함\n"
      ],
      "metadata": {
        "id": "OTKHB3dWe1SZ"
      }
    },
    {
      "cell_type": "code",
      "source": [
        "import time\n",
        "outputs=[]\n",
        "failed=[]\n",
        "rownum=0"
      ],
      "metadata": {
        "id": "O4Wimlrte6iX"
      },
      "execution_count": null,
      "outputs": []
    },
    {
      "cell_type": "code",
      "source": [
        "print(len(outputs))\n",
        "print(rownum)"
      ],
      "metadata": {
        "colab": {
          "base_uri": "https://localhost:8080/"
        },
        "id": "NTqJ6utIgOWW",
        "outputId": "0bbd7193-ac85-465f-eef0-bb93cb03cb78"
      },
      "execution_count": 67,
      "outputs": [
        {
          "output_type": "stream",
          "name": "stdout",
          "text": [
            "148\n",
            "148\n"
          ]
        }
      ]
    },
    {
      "cell_type": "code",
      "source": [
        "\n",
        "\n",
        "\n",
        "for row in df1[rownum:]['텍스트 내용']:\n",
        "  description =  row # 원하는 설명문을 입력하세요\n",
        "  response = client.chat.completions.create(\n",
        "  temperature=0.2,\n",
        "  model=\"gpt-3.5-turbo\",\n",
        "    messages=[\n",
        "    {\"role\": \"system\", \"content\": \"주류 데이터를 검색하기 위한 태그를 설명문으로부터 추출하고 싶어. 술에 대한 정보를 포함하는 10자 이내의 태그와 각 태그의 중요도를 ,로 묶어서 출력하고 싶어. \"},\n",
        "    {\"role\": \"system\", \"content\": \"또한 추출한 태그의 중요도를 1에서 10 사이의 수치로 표현해줘. 각 태그가 주관적인지 객관적인지 판단해서, 맛이나 향 등을 포함하거나 주관적이라면 높은 점수를 줘.\"},\n",
        "    {\"role\": \"user\", \"content\": description},\n",
        "  ]\n",
        "  )\n",
        "\n",
        "  if(rownum%5==0):\n",
        "    time.sleep(30)\n",
        "  print(response.choices[0].message.content)\n",
        "  tempstr=response.choices[0].message.content\n",
        "  if '태그: ' in tempstr and '중요도: ' in tempstr: #fine string\n",
        "    # add tags\n",
        "    lines=tempstr.split('\\n')\n",
        "    if \"\" in lines:\n",
        "      lines.remove(\"\")\n",
        "    if len(lines)!=1 and '태그: ' in lines[0] and '중요도: ' in lines[1]:\n",
        "      #good\n",
        "      print(\"good\")\n",
        "      outputs.append(lines[0].replace(\"태그:\",\"\").replace(\" \",\"\")+\"\\n\"+lines[1].replace(\"중요도:\",\"\").replace(\" \",\"\"))\n",
        "    else:\n",
        "      failed.append(rownum)\n",
        "      outputs.append(tempstr.replace(\"태그:\",\"\").replace(\"중요도:\",\"\").replace(\" \",\"\"))\n",
        "  else:\n",
        "    failed.append(rownum)\n",
        "    outputs.append(tempstr.replace(\"태그:\",\"\").replace(\"중요도:\",\"\").replace(\" \",\"\"))\n",
        "  rownum=rownum+1\n",
        "\n"
      ],
      "metadata": {
        "colab": {
          "base_uri": "https://localhost:8080/"
        },
        "id": "Z1QiXo5RdWWE",
        "outputId": "eae1068d-3c9e-4a42-f223-f0221ae28176"
      },
      "execution_count": 66,
      "outputs": [
        {
          "output_type": "stream",
          "name": "stdout",
          "text": [
            "태그: 대윤가야곡주조, 가야곡왕주, 약주, 궁중술, 왕주, 역사, 전통, 청정지역, 깨끗한 맛, 숙취, 고급, 음식, 조청향, 단맛, 신맛, 목넘김, 쭈꾸미 볶음\n",
            "\n",
            "중요도: 대윤가야곡주조(10), 가야곡왕주(9), 약주(8), 궁중술(7), 왕주(7), 역사(6), 전통(6), 청정지역(5), 깨끗한 맛(5), 숙취(4), 고급(4), 음식(3), 조청향(3), 단맛(2), 신맛(2), 목넘김(1), 쭈꾸미 볶음(1)\n",
            "good\n",
            "태그: 대표 막걸리, 인공 감미료 없음, 첨가물 없음, 가야양조장, 발효 기술, 숙성 기술, 진한 맛, 부드러움, 천연 과일향\n",
            "중요도: 8, 9, 9, 7, 8, 8, 9, 8, 9\n",
            "good\n",
            "태그: 발효, 오랜 숙성, 저온 숙성, 기다림의 미학, 풍부한 맛, 풍부한 향, 농담금법, 정성\n",
            "\n",
            "중요도: 8, 7, 7, 9, 9, 9, 6, 9\n",
            "good\n"
          ]
        }
      ]
    },
    {
      "cell_type": "markdown",
      "source": [
        "받아온 텍스트에서 가장 중요한건 처음에 태그 및 중요도가 따로 나온다는 점이고\n",
        "line별로 받아서 파싱을 진행해야함\n"
      ],
      "metadata": {
        "id": "TD8DEhiNMEcY"
      }
    },
    {
      "cell_type": "code",
      "source": [
        "print(len(outputs))\n",
        "print(len(failed))"
      ],
      "metadata": {
        "colab": {
          "base_uri": "https://localhost:8080/"
        },
        "id": "w5xry4wyNiWp",
        "outputId": "83b1b373-fe5c-4283-e9c6-0c66b8d717c4"
      },
      "execution_count": 68,
      "outputs": [
        {
          "output_type": "stream",
          "name": "stdout",
          "text": [
            "148\n",
            "13\n"
          ]
        }
      ]
    },
    {
      "cell_type": "code",
      "source": [
        "failed"
      ],
      "metadata": {
        "colab": {
          "base_uri": "https://localhost:8080/"
        },
        "id": "pF-pTsAxP4lz",
        "outputId": "81c12420-e164-464a-de5a-c1bda3cfce58"
      },
      "execution_count": 74,
      "outputs": [
        {
          "output_type": "execute_result",
          "data": {
            "text/plain": [
              "[4, 38, 39, 46, 57, 59, 66, 87, 88, 106, 122, 130, 138]"
            ]
          },
          "metadata": {},
          "execution_count": 74
        }
      ]
    },
    {
      "cell_type": "code",
      "source": [
        "#실패한 dataframe만 가져옴\n",
        "gpt_again=df1.loc[failed,:]\n",
        "newindex=[]\n",
        "failedindex=0\n",
        "for row in gpt_again['텍스트 내용']:\n",
        "  print(failed[failedindex])\n",
        "  description =  row # 원하는 설명문을 입력하세요\n",
        "  response = client.chat.completions.create(\n",
        "  temperature=0.2,\n",
        "  model=\"gpt-3.5-turbo\",\n",
        "    messages=[\n",
        "    {\"role\": \"system\", \"content\": \"주류 데이터를 검색하기 위한 태그를 설명문으로부터 추출하고 싶어. 술에 대한 정보를 포함하는 10자 이내의 태그와 각 태그의 중요도를 ,로 묶어서 출력하고 싶어. \"},\n",
        "    {\"role\": \"system\", \"content\": \"또한 추출한 태그의 중요도를 1에서 10 사이의 수치로 표현해줘. 각 태그가 주관적인지 객관적인지 판단해서, 맛이나 향 등을 포함하거나 주관적이라면 높은 점수를 줘.\"},\n",
        "    {\"role\": \"user\", \"content\": description},\n",
        "  ]\n",
        "  )\n",
        "  print(response.choices[0].message.content)\n",
        "  tempstr=response.choices[0].message.content\n",
        "  if '태그: ' in tempstr and '중요도: ' in tempstr: #fine string\n",
        "    # add tags\n",
        "    lines=tempstr.split('\\n')\n",
        "    if \"\" in lines:\n",
        "      lines.remove(\"\")\n",
        "    if len(lines)!=1 and '태그: ' in lines[0] and '중요도: ' in lines[1]:\n",
        "      #good\n",
        "      print(\"good\")\n",
        "      outputs[failed[failedindex]]=lines[0].replace(\"태그:\",\"\").replace(\" \",\"\")+\"\\n\"+lines[1].replace(\"중요도:\",\"\").replace(\" \",\"\")\n",
        "    else:\n",
        "      newindex.append(failed[failedindex])\n",
        "  elif '태그: ' in tempstr and len(tempstr.split('\\n'))==1:\n",
        "    print(\"oneline\")\n",
        "    p = re.compile('\\(([^)]+)')\n",
        "    tempstr=tempstr+\"\\n\"\n",
        "    for toint in p.findall(tempstr):\n",
        "      tempstr=tempstr+toint+\",\"\n",
        "    tempstr=tempstr+\"\\n\"\n",
        "    tempstr=tempstr.replace(\",\\n\",\"\")\n",
        "    tempstr=re.sub('\\([^)]+\\)','',tempstr)\n",
        "    print(tempstr)\n",
        "    outputs[failed[failedindex]]=tempstr.replace(\"태그:\",\"\").replace(\" \",\"\")\n",
        "  else:\n",
        "    newindex.append(failed[failedindex])\n",
        "  failedindex=failedindex+1\n",
        ""
      ],
      "metadata": {
        "colab": {
          "base_uri": "https://localhost:8080/"
        },
        "id": "8sXD3iO4WBmn",
        "outputId": "d88b1898-d3f0-4a7e-fb1f-535519011e76"
      },
      "execution_count": 75,
      "outputs": [
        {
          "output_type": "stream",
          "name": "stdout",
          "text": [
            "4\n",
            "태그: 삼양주, 탁주, 과일향, 새콤달콤함\n",
            "중요도: 삼양주(10), 탁주(9), 과일향(8), 새콤달콤함(7)\n",
            "good\n",
            "38\n",
            "태그: 깔끔한 탁주(10), 오양주(8), 발효(7), 숙성(7)\n",
            "oneline\n",
            "태그: 깔끔한 탁주, 오양주, 발효, 숙성\n",
            "10,8,7,7\n",
            "39\n",
            "오곡, 풍부하게, 고소하게, 부드럽게, 발효, 생막걸리, 맛 변화, 효모, 당분, 보관 기간, 매력, 취향\n",
            "46\n",
            "태그: 천연 단맛(9), 깔끔한 산미(8), 목넘김(7), 막걸리(6)\n",
            "oneline\n",
            "태그: 천연 단맛, 깔끔한 산미, 목넘김, 막걸리\n",
            "9,8,7,6\n",
            "57\n",
            "장밋빛의 로제 스파클링 와인, 케이크와 함께, 스위트 와인, 달콤한, 디저트\n",
            "59\n",
            "태그: 알콜45%, 증류주, 오크향\n",
            "중요도: 10, 8, 7\n",
            "good\n",
            "66\n",
            "태그: 바디감(8), 담백함(7), 과실향(9), 행복(10)\n",
            "oneline\n",
            "태그: 바디감, 담백함, 과실향, 행복\n",
            "8,7,9,10\n",
            "87\n",
            "태그: 꿀맛(10), 달콤함(9), 스트레스 제로(7), 진정(6)\n",
            "oneline\n",
            "태그: 꿀맛, 달콤함, 스트레스 제로, 진정\n",
            "10,9,7,6\n",
            "88\n",
            "1. 향미, 9\n",
            "2. 단맛, 8\n",
            "3. 도수, 7\n",
            "4. 신맛, 6\n",
            "5. 바디감, 7\n",
            "106\n",
            "태그: 탁주(10), 막걸리(9), 떠먹는 막걸리(8), 새콤한 맛(7), 단맛(7)\n",
            "oneline\n",
            "태그: 탁주, 막걸리, 떠먹는 막걸리, 새콤한 맛, 단맛\n",
            "10,9,8,7,7\n",
            "122\n",
            "태그: 사인머스켓, N와인, 사인, 판매\n",
            "중요도: 8, 7, 6, 5\n",
            "good\n",
            "130\n",
            "#옥주프리미엄,8,#곡물향,7,#원기옥,9\n",
            "138\n",
            "태그: 안동국화주, 회곡안동소주, 국화꽃, 향긋한, 전통주, 증류식 소주, 맛, 은은한, 부드럽고 산뜻한, 목넘김, 참맛\n",
            "중요도: 안동국화주(10), 회곡안동소주(8), 국화꽃(9), 향긋한(7), 전통주(9), 증류식 소주(6), 맛(8), 은은한(7), 부드럽고 산뜻한(8), 목넘김(7), 참맛(9)\n",
            "good\n"
          ]
        }
      ]
    },
    {
      "cell_type": "code",
      "source": [
        "newindex"
      ],
      "metadata": {
        "colab": {
          "base_uri": "https://localhost:8080/"
        },
        "id": "yt8DfIeLYemx",
        "outputId": "588fb3b3-7629-44bc-fa97-9a4050004365"
      },
      "execution_count": 76,
      "outputs": [
        {
          "output_type": "execute_result",
          "data": {
            "text/plain": [
              "[39, 57, 88, 130]"
            ]
          },
          "metadata": {},
          "execution_count": 76
        }
      ]
    },
    {
      "cell_type": "code",
      "source": [
        "newstr=re.sub('\\([^)]+\\)','',newstr)"
      ],
      "metadata": {
        "id": "pYXwvVb4PSJS"
      },
      "execution_count": null,
      "outputs": []
    },
    {
      "cell_type": "code",
      "source": [
        "#숫자만 존재하면 숫자만 리턴하고, 아니라면 문자열 파싱함\n",
        "\n",
        "import re\n",
        "finaltags=[]\n",
        "finalweight=[]\n",
        "\n",
        "for temp in outputs:\n",
        "  line=temp.split(\"\\n\")\n",
        "  tags=line[0].split(\",\")\n",
        "  finaltags.append(tags)\n",
        "  flag=True\n",
        "  try:\n",
        "    for s in line[1].split(\",\"):\n",
        "      if not s.isdigit():\n",
        "        flag=False\n",
        "        break\n",
        "    if not flag:\n",
        "      p = re.compile('\\(([^)]+)')\n",
        "      out=[]\n",
        "      for toint in p.findall(line[1]):\n",
        "        out.append(int(toint))\n",
        "      print(out)\n",
        "      finalweight.append(out)\n",
        "    else:\n",
        "      out=[]\n",
        "      for toint in line[1].split(','):\n",
        "        out.append(int(toint))\n",
        "      print(out)\n",
        "      finalweight.append(out)\n",
        "  except:\n",
        "    finalweight.append([])\n"
      ],
      "metadata": {
        "colab": {
          "base_uri": "https://localhost:8080/"
        },
        "id": "XDcunILJOikZ",
        "outputId": "8f701f51-f4ee-4fec-baf2-d4c39720adb8"
      },
      "execution_count": 77,
      "outputs": [
        {
          "output_type": "stream",
          "name": "stdout",
          "text": [
            "[8, 9, 6, 7, 7, 8, 8, 5, 7, 6, 8, 6, 6, 6]\n",
            "[8, 7, 7, 6, 6, 6, 5, 5, 4]\n",
            "[10, 9, 5, 7, 8, 6, 9]\n",
            "[9, 8, 9, 7, 7, 8, 7, 6, 8]\n",
            "[10, 9, 8, 7]\n",
            "[9, 9, 8, 8, 7, 7, 6, 6, 5, 5, 4]\n",
            "[8, 9, 7, 7, 9, 8, 6]\n",
            "[7, 6, 9, 5, 8, 8, 6, 7]\n",
            "[8, 7, 6, 6, 7, 9, 10, 8, 7, 7, 7, 8, 7]\n",
            "[9, 8, 7, 7, 9, 8, 7, 5, 5, 6]\n",
            "[9, 8, 7, 7, 6, 6, 8, 8, 6, 7, 8]\n",
            "[9, 7, 8]\n",
            "[9, 8, 7, 6]\n",
            "[8, 10, 7, 9]\n",
            "[9, 8, 7, 7, 9, 10, 6, 6]\n",
            "[7, 9, 6, 5, 4, 8, 8, 6, 7, 9, 8]\n",
            "[9, 8, 7, 7, 6, 6, 8, 9, 6, 7, 8, 7, 8, 8, 7, 7]\n",
            "[8, 7, 6, 9, 7, 8, 7, 9, 6, 8, 8]\n",
            "[9, 8, 10, 7, 7, 6, 8, 6, 8, 9, 8, 5, 7, 9, 9, 8, 7, 6, 6]\n",
            "[8, 7, 7, 6, 6, 5, 5, 9, 10, 8]\n",
            "[8, 9, 7, 9]\n",
            "[8, 9, 7, 10, 8, 6, 7]\n",
            "[7, 8, 9, 6, 5, 7, 7, 6, 6, 8]\n",
            "[7, 9, 8, 6, 5, 8, 7, 6, 6, 9, 7]\n",
            "[10, 8, 7, 6, 9, 9]\n",
            "[9, 8, 7, 6, 7, 6, 8, 7, 9, 7]\n",
            "[8, 9, 7, 6, 7, 7, 9]\n",
            "[7, 9, 8, 6, 9]\n",
            "[8, 9]\n",
            "[10, 9, 8, 9, 7, 8, 6, 9]\n",
            "[7, 9, 8, 6, 5, 7, 8, 4, 7, 9, 8]\n",
            "[7, 9, 8, 10, 6]\n",
            "[7, 8, 9, 6, 8, 7, 9, 9]\n",
            "[7, 7, 8, 6, 9, 8]\n",
            "[8, 7, 6, 9]\n",
            "[8, 6, 9, 7]\n",
            "[7, 6, 8, 9]\n",
            "[8, 6, 9, 7]\n",
            "[10, 8, 7, 7]\n",
            "[]\n",
            "[9, 10, 7, 8, 8, 9, 9, 7, 8, 9]\n",
            "[7, 8, 6, 9, 10, 7, 8, 9]\n",
            "[8, 7, 9, 6, 8, 10]\n",
            "[8, 7, 6, 9, 8, 8, 7]\n",
            "[8, 9, 7, 9, 8]\n",
            "[10, 9, 9, 8, 7, 6, 5, 5]\n",
            "[9, 8, 7, 6]\n",
            "[8, 7, 9, 9]\n",
            "[8, 9, 7, 10, 6]\n",
            "[8, 7, 6, 5]\n",
            "[10, 9, 8, 7, 6, 6, 5, 5, 4, 3, 3]\n",
            "[8, 7, 6, 5, 9, 4, 8, 9, 9, 9, 7, 8]\n",
            "[8, 6, 9, 7]\n",
            "[9, 6, 4, 8, 7, 8, 9, 9]\n",
            "[8, 7, 9, 6, 7, 5, 7, 8, 9, 6]\n",
            "[8, 7, 7, 9, 6, 5, 9, 8, 9]\n",
            "[8, 8, 7, 7, 9, 9, 8, 8, 8]\n",
            "[8, 7, 9, 7, 7, 6, 6, 6, 6, 8, 8, 9, 8, 7, 9, 8, 7]\n",
            "[10, 8, 7]\n",
            "[9, 8, 7, 6, 6, 7, 7, 7, 6, 5, 6, 6, 6, 5, 7]\n",
            "[10, 9, 8, 7, 6, 9, 8, 7]\n",
            "[10, 8, 9, 7, 9, 8, 9, 7, 8, 7, 9, 6, 5, 7]\n",
            "[10, 9, 8, 7, 9, 8, 9, 7, 8, 6, 6, 5, 7]\n",
            "[8, 7, 5, 9, 6, 7, 7, 7, 8, 9, 8, 6]\n",
            "[10, 8, 9, 7, 6, 9, 8]\n",
            "[8, 7, 9, 10]\n",
            "[7, 6, 6, 8, 5, 6, 7, 6, 5, 8]\n",
            "[10, 8, 7, 6, 9]\n",
            "[8, 9, 7]\n",
            "[7, 6, 8, 9, 9]\n",
            "[8, 9, 7, 8, 7]\n",
            "[8, 7, 9, 6]\n",
            "[10, 8, 7, 6]\n",
            "[8, 9, 7, 6, 9, 7, 8]\n",
            "[8, 9, 7, 9, 6, 7, 7, 8, 9, 9, 8]\n",
            "[7, 9, 8]\n",
            "[7, 9, 8, 6, 5]\n",
            "[7, 9, 8, 6, 7, 8, 9]\n",
            "[8, 7, 6, 9, 9]\n",
            "[8, 6, 7, 9, 10]\n",
            "[8, 7, 6, 6, 9, 9, 7, 7, 6, 8]\n",
            "[8, 6, 9, 10]\n",
            "[7, 8, 9, 6, 8, 7, 9, 8, 7, 8]\n",
            "[9, 8, 10, 9]\n",
            "[8, 9, 7, 7, 6, 7]\n",
            "[7, 7, 8, 9, 6, 8, 6, 9, 8, 7]\n",
            "[10, 9, 7, 6]\n",
            "[7, 6, 6, 6, 8, 5, 9, 8, 7, 9, 8, 9, 8]\n",
            "[8, 7, 9, 6, 9, 8]\n",
            "[8, 9, 7, 6]\n",
            "[8, 7, 6, 9, 7, 8, 6, 6, 9, 9]\n",
            "[10, 8, 7, 9, 6, 7, 5, 8, 7, 6]\n",
            "[9, 8, 7, 9, 8, 7, 6, 5]\n",
            "[8, 7, 6, 6, 6, 7, 9, 8, 8, 9]\n",
            "[8, 7, 6, 9, 8, 9, 9, 7, 8]\n",
            "[9, 7, 8, 6, 8, 9, 7, 7, 8, 6, 9, 9, 9, 7, 7, 6, 8]\n",
            "[9, 8, 7, 8, 9, 7, 8, 7, 9, 8]\n",
            "[8, 7, 6, 5, 9, 10]\n",
            "[8, 9, 7, 6, 7]\n",
            "[8, 7, 6, 7, 6, 9]\n",
            "[8, 7, 6, 6, 5, 5, 5, 9, 8, 7, 6, 7]\n",
            "[8, 9, 7, 7, 8, 8, 6, 6, 7, 7]\n",
            "[8, 9, 7, 6, 8]\n",
            "[8, 9, 10, 7]\n",
            "[10, 9, 8, 7, 7]\n",
            "[8, 7, 6, 5, 4]\n",
            "[7, 6, 8, 9, 10, 8, 5, 7, 9]\n",
            "[9, 8, 7, 6, 9, 8, 9, 7, 5, 5]\n",
            "[10, 10, 10, 8, 7, 8, 7, 6, 6, 5]\n",
            "[10, 10, 10, 8, 7, 9, 8, 6, 6, 7]\n",
            "[8, 7, 7, 6, 6, 6, 5, 4, 4, 4]\n",
            "[8, 10, 9, 7, 7, 6, 6]\n",
            "[9, 8, 9, 7, 8, 9, 8, 6, 7, 7]\n",
            "[8, 7, 6, 9, 9]\n",
            "[8, 7, 9, 6]\n",
            "[8, 9, 7, 6, 8, 7, 6, 7, 7, 9]\n",
            "[7, 6, 5, 8, 9, 7, 9, 8, 9, 10]\n",
            "[7, 8, 9, 6]\n",
            "[10, 9, 7, 6, 8, 5, 4, 6, 5, 10, 9, 7, 6, 6, 8, 7, 5, 8, 7, 7, 8, 7, 8, 9, 6, 7, 8, 7]\n",
            "[8, 7, 6, 5]\n",
            "[9, 8, 7, 6, 5, 9, 7, 10, 8]\n",
            "[9, 10, 7, 8, 9, 8, 7, 9, 6, 7, 8]\n",
            "[8, 7, 5, 9, 9, 8, 7, 6, 7]\n",
            "[8, 7, 9, 10, 9, 8, 7, 7, 6, 8, 8]\n",
            "[7, 9, 6]\n",
            "[10, 8, 7]\n",
            "[7, 9, 8]\n",
            "[8, 9, 7]\n",
            "[10, 7, 8, 9, 8, 9, 8, 9]\n",
            "[10, 7, 8, 9, 8, 9, 8, 9]\n",
            "[10, 8, 7, 6, 9, 7, 8, 9]\n",
            "[8, 7, 9, 10]\n",
            "[8, 7, 9, 10]\n",
            "[10, 8, 9, 9, 7, 6, 8, 7, 8, 7, 9]\n",
            "[10, 8, 9, 7, 9, 6, 8, 7, 8, 7, 9]\n",
            "[10, 9, 8, 9, 8, 7, 6, 7, 8, 7, 9]\n",
            "[8, 7, 6, 6, 5, 5, 7, 8, 7, 9, 8, 6, 6, 6, 6]\n",
            "[8, 7, 9, 6, 7, 9, 8, 7, 8, 9]\n",
            "[8, 7, 9, 6, 7, 8, 7, 9, 7, 6, 8, 7, 8, 7]\n",
            "[8, 9, 7, 6, 5, 8, 7, 7, 6, 7, 8, 6, 6, 6, 6, 7, 7, 8, 8, 7, 6, 8, 7, 7, 7]\n",
            "[9, 8, 7, 6, 5, 4, 3, 2, 2, 1]\n",
            "[10, 9, 8, 7, 7, 6, 6, 5, 5, 4, 4, 3, 3, 2, 2, 1, 1]\n",
            "[8, 9, 9, 7, 8, 8, 9, 8, 9]\n",
            "[8, 7, 7, 9, 9, 9, 6, 9]\n"
          ]
        }
      ]
    },
    {
      "cell_type": "code",
      "source": [
        "print(len(finaltags))\n",
        "print(len(finalweight))"
      ],
      "metadata": {
        "colab": {
          "base_uri": "https://localhost:8080/"
        },
        "id": "2c9TXzrWRJDO",
        "outputId": "2733bf12-02e3-4167-f70c-b56919af0440"
      },
      "execution_count": 79,
      "outputs": [
        {
          "output_type": "stream",
          "name": "stdout",
          "text": [
            "148\n",
            "148\n"
          ]
        }
      ]
    },
    {
      "cell_type": "code",
      "source": [
        "df1.head(10)"
      ],
      "metadata": {
        "id": "gteMZgMJPfWu"
      },
      "execution_count": null,
      "outputs": []
    },
    {
      "cell_type": "code",
      "source": [
        "response"
      ],
      "metadata": {
        "colab": {
          "base_uri": "https://localhost:8080/"
        },
        "id": "exmhbVC_PWUu",
        "outputId": "959614eb-7858-4494-c3d8-ffa065dd8e59"
      },
      "execution_count": null,
      "outputs": [
        {
          "output_type": "execute_result",
          "data": {
            "text/plain": [
              "ChatCompletion(id='chatcmpl-8M5GfzHrfNwe9hiBPoNrfTN56XsyN', choices=[Choice(finish_reason='stop', index=0, message=ChatCompletionMessage(content='황매실주, 매실주, 매실주 원액, 황매실, 100% 매실주, 제주도 꿀, 전통 제조방법, 설탕 대신 꿀, 품평회, 수상', role='assistant', function_call=None, tool_calls=None))], created=1700274157, model='gpt-3.5-turbo-0613', object='chat.completion', system_fingerprint=None, usage=CompletionUsage(completion_tokens=77, prompt_tokens=1285, total_tokens=1362))"
            ]
          },
          "metadata": {},
          "execution_count": 30
        }
      ]
    },
    {
      "cell_type": "code",
      "source": [
        "df1['tags']=finaltags\n",
        "df1['weight']=finalweight"
      ],
      "metadata": {
        "id": "W3OduSTprG3H"
      },
      "execution_count": 81,
      "outputs": []
    },
    {
      "cell_type": "code",
      "source": [
        "df1.head()"
      ],
      "metadata": {
        "colab": {
          "base_uri": "https://localhost:8080/",
          "height": 275
        },
        "id": "Xq_-0d0nrPrA",
        "outputId": "3da5c733-36cc-4f57-9521-7ba308836029"
      },
      "execution_count": 82,
      "outputs": [
        {
          "output_type": "execute_result",
          "data": {
            "text/plain": [
              "         술 이름                                             텍스트 내용  \\\n",
              "0  고도리 복숭아 와인  GAP인증 복숭아로 만든 디저트 와인\\n복숭아의 당도가 가장 높은 8월 말에 수확하...   \n",
              "1     고도리 화이트  GAP인증 거봉 포도로 만든 신의 물방울\\n포도의 당도가 가장 높은 10월 말에 수...   \n",
              "2        매실원주  황매실로 담근 100% 매실주\\n\\n국내 유일 기타 과실주를 첨가하지 않고 매실주 ...   \n",
              "3           엠  화사한 메밀향과 스파이시한 목넘김\\n반전매력 가득 메밀 증류주\\n\\n프레시하고 화사...   \n",
              "4        술예쁘다                    홍국쌀 특유의 과일향과 새콤달콤함이 인상적인 삼양주 탁주   \n",
              "\n",
              "                                                tags  \\\n",
              "0  [와인, 복숭아, 디저트, 당도, 발효, 맛, 향, 냉동숙성, 아이스와인, 산, 아...   \n",
              "1  [와인, 화이트와인, 과일향, 아로마틱, 달콤함, 산미, 고도리, 거봉포도, GAP인증]   \n",
              "2           [매실주, 황매실, 100%, 제주도꿀, 전통제조방법, 향미, 품질인정]   \n",
              "3    [메밀향, 스파이시한, 반전매력, 프레시, 화사한, 정통, 시원한, 따뜻한, 특별한]   \n",
              "4                              [삼양주, 탁주, 과일향, 새콤달콤함]   \n",
              "\n",
              "                                       weight  \n",
              "0  [8, 9, 6, 7, 7, 8, 8, 5, 7, 6, 8, 6, 6, 6]  \n",
              "1                 [8, 7, 7, 6, 6, 6, 5, 5, 4]  \n",
              "2                      [10, 9, 5, 7, 8, 6, 9]  \n",
              "3                 [9, 8, 9, 7, 7, 8, 7, 6, 8]  \n",
              "4                               [10, 9, 8, 7]  "
            ],
            "text/html": [
              "\n",
              "  <div id=\"df-c437d09f-2651-4bb3-af70-d9b32b97f890\" class=\"colab-df-container\">\n",
              "    <div>\n",
              "<style scoped>\n",
              "    .dataframe tbody tr th:only-of-type {\n",
              "        vertical-align: middle;\n",
              "    }\n",
              "\n",
              "    .dataframe tbody tr th {\n",
              "        vertical-align: top;\n",
              "    }\n",
              "\n",
              "    .dataframe thead th {\n",
              "        text-align: right;\n",
              "    }\n",
              "</style>\n",
              "<table border=\"1\" class=\"dataframe\">\n",
              "  <thead>\n",
              "    <tr style=\"text-align: right;\">\n",
              "      <th></th>\n",
              "      <th>술 이름</th>\n",
              "      <th>텍스트 내용</th>\n",
              "      <th>tags</th>\n",
              "      <th>weight</th>\n",
              "    </tr>\n",
              "  </thead>\n",
              "  <tbody>\n",
              "    <tr>\n",
              "      <th>0</th>\n",
              "      <td>고도리 복숭아 와인</td>\n",
              "      <td>GAP인증 복숭아로 만든 디저트 와인\\n복숭아의 당도가 가장 높은 8월 말에 수확하...</td>\n",
              "      <td>[와인, 복숭아, 디저트, 당도, 발효, 맛, 향, 냉동숙성, 아이스와인, 산, 아...</td>\n",
              "      <td>[8, 9, 6, 7, 7, 8, 8, 5, 7, 6, 8, 6, 6, 6]</td>\n",
              "    </tr>\n",
              "    <tr>\n",
              "      <th>1</th>\n",
              "      <td>고도리 화이트</td>\n",
              "      <td>GAP인증 거봉 포도로 만든 신의 물방울\\n포도의 당도가 가장 높은 10월 말에 수...</td>\n",
              "      <td>[와인, 화이트와인, 과일향, 아로마틱, 달콤함, 산미, 고도리, 거봉포도, GAP인증]</td>\n",
              "      <td>[8, 7, 7, 6, 6, 6, 5, 5, 4]</td>\n",
              "    </tr>\n",
              "    <tr>\n",
              "      <th>2</th>\n",
              "      <td>매실원주</td>\n",
              "      <td>황매실로 담근 100% 매실주\\n\\n국내 유일 기타 과실주를 첨가하지 않고 매실주 ...</td>\n",
              "      <td>[매실주, 황매실, 100%, 제주도꿀, 전통제조방법, 향미, 품질인정]</td>\n",
              "      <td>[10, 9, 5, 7, 8, 6, 9]</td>\n",
              "    </tr>\n",
              "    <tr>\n",
              "      <th>3</th>\n",
              "      <td>엠</td>\n",
              "      <td>화사한 메밀향과 스파이시한 목넘김\\n반전매력 가득 메밀 증류주\\n\\n프레시하고 화사...</td>\n",
              "      <td>[메밀향, 스파이시한, 반전매력, 프레시, 화사한, 정통, 시원한, 따뜻한, 특별한]</td>\n",
              "      <td>[9, 8, 9, 7, 7, 8, 7, 6, 8]</td>\n",
              "    </tr>\n",
              "    <tr>\n",
              "      <th>4</th>\n",
              "      <td>술예쁘다</td>\n",
              "      <td>홍국쌀 특유의 과일향과 새콤달콤함이 인상적인 삼양주 탁주</td>\n",
              "      <td>[삼양주, 탁주, 과일향, 새콤달콤함]</td>\n",
              "      <td>[10, 9, 8, 7]</td>\n",
              "    </tr>\n",
              "  </tbody>\n",
              "</table>\n",
              "</div>\n",
              "    <div class=\"colab-df-buttons\">\n",
              "\n",
              "  <div class=\"colab-df-container\">\n",
              "    <button class=\"colab-df-convert\" onclick=\"convertToInteractive('df-c437d09f-2651-4bb3-af70-d9b32b97f890')\"\n",
              "            title=\"Convert this dataframe to an interactive table.\"\n",
              "            style=\"display:none;\">\n",
              "\n",
              "  <svg xmlns=\"http://www.w3.org/2000/svg\" height=\"24px\" viewBox=\"0 -960 960 960\">\n",
              "    <path d=\"M120-120v-720h720v720H120Zm60-500h600v-160H180v160Zm220 220h160v-160H400v160Zm0 220h160v-160H400v160ZM180-400h160v-160H180v160Zm440 0h160v-160H620v160ZM180-180h160v-160H180v160Zm440 0h160v-160H620v160Z\"/>\n",
              "  </svg>\n",
              "    </button>\n",
              "\n",
              "  <style>\n",
              "    .colab-df-container {\n",
              "      display:flex;\n",
              "      gap: 12px;\n",
              "    }\n",
              "\n",
              "    .colab-df-convert {\n",
              "      background-color: #E8F0FE;\n",
              "      border: none;\n",
              "      border-radius: 50%;\n",
              "      cursor: pointer;\n",
              "      display: none;\n",
              "      fill: #1967D2;\n",
              "      height: 32px;\n",
              "      padding: 0 0 0 0;\n",
              "      width: 32px;\n",
              "    }\n",
              "\n",
              "    .colab-df-convert:hover {\n",
              "      background-color: #E2EBFA;\n",
              "      box-shadow: 0px 1px 2px rgba(60, 64, 67, 0.3), 0px 1px 3px 1px rgba(60, 64, 67, 0.15);\n",
              "      fill: #174EA6;\n",
              "    }\n",
              "\n",
              "    .colab-df-buttons div {\n",
              "      margin-bottom: 4px;\n",
              "    }\n",
              "\n",
              "    [theme=dark] .colab-df-convert {\n",
              "      background-color: #3B4455;\n",
              "      fill: #D2E3FC;\n",
              "    }\n",
              "\n",
              "    [theme=dark] .colab-df-convert:hover {\n",
              "      background-color: #434B5C;\n",
              "      box-shadow: 0px 1px 3px 1px rgba(0, 0, 0, 0.15);\n",
              "      filter: drop-shadow(0px 1px 2px rgba(0, 0, 0, 0.3));\n",
              "      fill: #FFFFFF;\n",
              "    }\n",
              "  </style>\n",
              "\n",
              "    <script>\n",
              "      const buttonEl =\n",
              "        document.querySelector('#df-c437d09f-2651-4bb3-af70-d9b32b97f890 button.colab-df-convert');\n",
              "      buttonEl.style.display =\n",
              "        google.colab.kernel.accessAllowed ? 'block' : 'none';\n",
              "\n",
              "      async function convertToInteractive(key) {\n",
              "        const element = document.querySelector('#df-c437d09f-2651-4bb3-af70-d9b32b97f890');\n",
              "        const dataTable =\n",
              "          await google.colab.kernel.invokeFunction('convertToInteractive',\n",
              "                                                    [key], {});\n",
              "        if (!dataTable) return;\n",
              "\n",
              "        const docLinkHtml = 'Like what you see? Visit the ' +\n",
              "          '<a target=\"_blank\" href=https://colab.research.google.com/notebooks/data_table.ipynb>data table notebook</a>'\n",
              "          + ' to learn more about interactive tables.';\n",
              "        element.innerHTML = '';\n",
              "        dataTable['output_type'] = 'display_data';\n",
              "        await google.colab.output.renderOutput(dataTable, element);\n",
              "        const docLink = document.createElement('div');\n",
              "        docLink.innerHTML = docLinkHtml;\n",
              "        element.appendChild(docLink);\n",
              "      }\n",
              "    </script>\n",
              "  </div>\n",
              "\n",
              "\n",
              "<div id=\"df-26482891-b778-41f7-8466-a773b3a685b5\">\n",
              "  <button class=\"colab-df-quickchart\" onclick=\"quickchart('df-26482891-b778-41f7-8466-a773b3a685b5')\"\n",
              "            title=\"Suggest charts\"\n",
              "            style=\"display:none;\">\n",
              "\n",
              "<svg xmlns=\"http://www.w3.org/2000/svg\" height=\"24px\"viewBox=\"0 0 24 24\"\n",
              "     width=\"24px\">\n",
              "    <g>\n",
              "        <path d=\"M19 3H5c-1.1 0-2 .9-2 2v14c0 1.1.9 2 2 2h14c1.1 0 2-.9 2-2V5c0-1.1-.9-2-2-2zM9 17H7v-7h2v7zm4 0h-2V7h2v10zm4 0h-2v-4h2v4z\"/>\n",
              "    </g>\n",
              "</svg>\n",
              "  </button>\n",
              "\n",
              "<style>\n",
              "  .colab-df-quickchart {\n",
              "      --bg-color: #E8F0FE;\n",
              "      --fill-color: #1967D2;\n",
              "      --hover-bg-color: #E2EBFA;\n",
              "      --hover-fill-color: #174EA6;\n",
              "      --disabled-fill-color: #AAA;\n",
              "      --disabled-bg-color: #DDD;\n",
              "  }\n",
              "\n",
              "  [theme=dark] .colab-df-quickchart {\n",
              "      --bg-color: #3B4455;\n",
              "      --fill-color: #D2E3FC;\n",
              "      --hover-bg-color: #434B5C;\n",
              "      --hover-fill-color: #FFFFFF;\n",
              "      --disabled-bg-color: #3B4455;\n",
              "      --disabled-fill-color: #666;\n",
              "  }\n",
              "\n",
              "  .colab-df-quickchart {\n",
              "    background-color: var(--bg-color);\n",
              "    border: none;\n",
              "    border-radius: 50%;\n",
              "    cursor: pointer;\n",
              "    display: none;\n",
              "    fill: var(--fill-color);\n",
              "    height: 32px;\n",
              "    padding: 0;\n",
              "    width: 32px;\n",
              "  }\n",
              "\n",
              "  .colab-df-quickchart:hover {\n",
              "    background-color: var(--hover-bg-color);\n",
              "    box-shadow: 0 1px 2px rgba(60, 64, 67, 0.3), 0 1px 3px 1px rgba(60, 64, 67, 0.15);\n",
              "    fill: var(--button-hover-fill-color);\n",
              "  }\n",
              "\n",
              "  .colab-df-quickchart-complete:disabled,\n",
              "  .colab-df-quickchart-complete:disabled:hover {\n",
              "    background-color: var(--disabled-bg-color);\n",
              "    fill: var(--disabled-fill-color);\n",
              "    box-shadow: none;\n",
              "  }\n",
              "\n",
              "  .colab-df-spinner {\n",
              "    border: 2px solid var(--fill-color);\n",
              "    border-color: transparent;\n",
              "    border-bottom-color: var(--fill-color);\n",
              "    animation:\n",
              "      spin 1s steps(1) infinite;\n",
              "  }\n",
              "\n",
              "  @keyframes spin {\n",
              "    0% {\n",
              "      border-color: transparent;\n",
              "      border-bottom-color: var(--fill-color);\n",
              "      border-left-color: var(--fill-color);\n",
              "    }\n",
              "    20% {\n",
              "      border-color: transparent;\n",
              "      border-left-color: var(--fill-color);\n",
              "      border-top-color: var(--fill-color);\n",
              "    }\n",
              "    30% {\n",
              "      border-color: transparent;\n",
              "      border-left-color: var(--fill-color);\n",
              "      border-top-color: var(--fill-color);\n",
              "      border-right-color: var(--fill-color);\n",
              "    }\n",
              "    40% {\n",
              "      border-color: transparent;\n",
              "      border-right-color: var(--fill-color);\n",
              "      border-top-color: var(--fill-color);\n",
              "    }\n",
              "    60% {\n",
              "      border-color: transparent;\n",
              "      border-right-color: var(--fill-color);\n",
              "    }\n",
              "    80% {\n",
              "      border-color: transparent;\n",
              "      border-right-color: var(--fill-color);\n",
              "      border-bottom-color: var(--fill-color);\n",
              "    }\n",
              "    90% {\n",
              "      border-color: transparent;\n",
              "      border-bottom-color: var(--fill-color);\n",
              "    }\n",
              "  }\n",
              "</style>\n",
              "\n",
              "  <script>\n",
              "    async function quickchart(key) {\n",
              "      const quickchartButtonEl =\n",
              "        document.querySelector('#' + key + ' button');\n",
              "      quickchartButtonEl.disabled = true;  // To prevent multiple clicks.\n",
              "      quickchartButtonEl.classList.add('colab-df-spinner');\n",
              "      try {\n",
              "        const charts = await google.colab.kernel.invokeFunction(\n",
              "            'suggestCharts', [key], {});\n",
              "      } catch (error) {\n",
              "        console.error('Error during call to suggestCharts:', error);\n",
              "      }\n",
              "      quickchartButtonEl.classList.remove('colab-df-spinner');\n",
              "      quickchartButtonEl.classList.add('colab-df-quickchart-complete');\n",
              "    }\n",
              "    (() => {\n",
              "      let quickchartButtonEl =\n",
              "        document.querySelector('#df-26482891-b778-41f7-8466-a773b3a685b5 button');\n",
              "      quickchartButtonEl.style.display =\n",
              "        google.colab.kernel.accessAllowed ? 'block' : 'none';\n",
              "    })();\n",
              "  </script>\n",
              "</div>\n",
              "    </div>\n",
              "  </div>\n"
            ]
          },
          "metadata": {},
          "execution_count": 82
        }
      ]
    },
    {
      "cell_type": "code",
      "source": [
        "df1.to_csv('gpt_tag_weight.csv')\n"
      ],
      "metadata": {
        "id": "5koxVmQsrWD_"
      },
      "execution_count": 83,
      "outputs": []
    }
  ]
}