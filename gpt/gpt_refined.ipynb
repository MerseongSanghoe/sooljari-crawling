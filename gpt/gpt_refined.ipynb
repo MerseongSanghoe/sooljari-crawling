{
  "nbformat": 4,
  "nbformat_minor": 0,
  "metadata": {
    "colab": {
      "provenance": []
    },
    "kernelspec": {
      "name": "python3",
      "display_name": "Python 3"
    },
    "language_info": {
      "name": "python"
    }
  },
  "cells": [
    {
      "cell_type": "code",
      "execution_count": null,
      "metadata": {
        "id": "rMOnMVbfCUFH"
      },
      "outputs": [],
      "source": [
        "import pandas as pd\n",
        "gpt_tag=pd.read_csv(\"/content/drive/MyDrive/colab_github/sooljari-crawling/gptoutput.csv\")\n"
      ]
    },
    {
      "cell_type": "code",
      "source": [
        "cnt=0\n",
        "errlst = []\n",
        "for item in gpt_tag['gptoutput']:\n",
        "  if(type(item)==type(\"str\")):\n",
        "    newstr=item.replace(\" \",\"\").replace(\"\\n\",\"\").replace(\".\",\"\")\n",
        "    #gpt_tag=gpt_tag.replace({'gptoutput' : item}, newstr)\n",
        "    if(newstr[0]!='#'):\n",
        "      print(cnt)\n",
        "      errlst.append(cnt)\n",
        "  else:\n",
        "    print(cnt)\n",
        "    errlst.append(cnt)\n",
        "  cnt=cnt+1"
      ],
      "metadata": {
        "id": "viEdfLw1HGE2"
      },
      "execution_count": 122,
      "outputs": []
    },
    {
      "cell_type": "code",
      "source": [
        "#print(str(errlst[0])+\" \"+gpt_tag['텍스트 내용'][errlst[0]]+\".\")"
      ],
      "metadata": {
        "id": "tkn5E3OLDNnK"
      },
      "execution_count": null,
      "outputs": []
    },
    {
      "cell_type": "code",
      "source": [
        "#gpt_tag.loc[errlst[0], 'gptoutput'] = \"#가야양조장, #기다림과정성, #발효, #숙성과정, #2차숙성, #풍부한맛과향, #전통농담금법, #어머니의정성, #평균66일, #저온숙성\"\n",
        "#del errlst[0]"
      ],
      "metadata": {
        "id": "A7V0EUalGtC_"
      },
      "execution_count": 112,
      "outputs": []
    },
    {
      "cell_type": "code",
      "source": [
        "gpt_tag.to_csv('gptoutput_refined.csv')"
      ],
      "metadata": {
        "id": "njDye7oRN6qt"
      },
      "execution_count": 124,
      "outputs": []
    }
  ]
}
