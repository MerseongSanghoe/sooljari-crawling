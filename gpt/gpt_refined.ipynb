{
  "nbformat": 4,
  "nbformat_minor": 0,
  "metadata": {
    "colab": {
      "provenance": [],
      "toc_visible": true
    },
    "kernelspec": {
      "name": "python3",
      "display_name": "Python 3"
    },
    "language_info": {
      "name": "python"
    }
  },
  "cells": [
    {
      "cell_type": "code",
      "execution_count": null,
      "metadata": {
        "id": "rMOnMVbfCUFH"
      },
      "outputs": [],
      "source": [
        "import pandas as pd\n",
        "gpt_tag=pd.read_csv(\"/content/drive/MyDrive/colab_github/sooljari-crawling/gpt/gpt_tag_weight.csv\")\n"
      ]
    },
    {
      "cell_type": "code",
      "source": [
        "gpt_tag['tags']"
      ],
      "metadata": {
        "colab": {
          "base_uri": "https://localhost:8080/"
        },
        "id": "PmEegi_P_KrF",
        "outputId": "0f185b43-561e-488a-9808-123aeb4d4235"
      },
      "execution_count": null,
      "outputs": [
        {
          "output_type": "execute_result",
          "data": {
            "text/plain": [
              "0      ['와인', '복숭아', '디저트', '당도', '발효', '맛', '향', '냉동...\n",
              "1      ['와인', '화이트와인', '과일향', '아로마틱', '달콤함', '산미', '고...\n",
              "2      ['매실주', '황매실', '100%', '제주도꿀', '전통제조방법', '향미',...\n",
              "3      ['메밀향', '스파이시한', '반전매력', '프레시', '화사한', '정통', '...\n",
              "4                          ['삼양주', '탁주', '과일향', '새콤달콤함']\n",
              "                             ...                        \n",
              "143    ['부드럽고깨끗한맛', '매실의풍미', '달콤함', '12도도수', '매화꽃디자인'...\n",
              "144    ['매취순', '매실주', '청매실', '프리미엄', '국산', '해남', '보해매...\n",
              "145    ['대윤가야곡주조', '가야곡왕주', '약주', '궁중술', '왕주', '역사', ...\n",
              "146    ['대표막걸리', '인공감미료없음', '첨가물없음', '가야양조장', '발효기술',...\n",
              "147    ['발효', '오랜숙성', '저온숙성', '기다림의미학', '풍부한맛', '풍부한향...\n",
              "Name: tags, Length: 148, dtype: object"
            ]
          },
          "metadata": {},
          "execution_count": 81
        }
      ]
    },
    {
      "cell_type": "code",
      "source": [
        "!pip install openai\n"
      ],
      "metadata": {
        "colab": {
          "base_uri": "https://localhost:8080/"
        },
        "id": "NjWQnH9x_UVd",
        "outputId": "4b12423b-6232-4358-cfd7-0087a8529e64"
      },
      "execution_count": null,
      "outputs": [
        {
          "output_type": "stream",
          "name": "stdout",
          "text": [
            "Collecting openai\n",
            "  Downloading openai-1.3.5-py3-none-any.whl (220 kB)\n",
            "\u001b[?25l     \u001b[90m━━━━━━━━━━━━━━━━━━━━━━━━━━━━━━━━━━━━━━━━\u001b[0m \u001b[32m0.0/220.8 kB\u001b[0m \u001b[31m?\u001b[0m eta \u001b[36m-:--:--\u001b[0m\r\u001b[2K     \u001b[91m━━━━━━━━━━━━━━━━━━━━━━━━━━━━━━━━━━━━━━\u001b[0m\u001b[91m╸\u001b[0m\u001b[90m━\u001b[0m \u001b[32m215.0/220.8 kB\u001b[0m \u001b[31m6.7 MB/s\u001b[0m eta \u001b[36m0:00:01\u001b[0m\r\u001b[2K     \u001b[90m━━━━━━━━━━━━━━━━━━━━━━━━━━━━━━━━━━━━━━━━\u001b[0m \u001b[32m220.8/220.8 kB\u001b[0m \u001b[31m4.9 MB/s\u001b[0m eta \u001b[36m0:00:00\u001b[0m\n",
            "\u001b[?25hRequirement already satisfied: anyio<4,>=3.5.0 in /usr/local/lib/python3.10/dist-packages (from openai) (3.7.1)\n",
            "Requirement already satisfied: distro<2,>=1.7.0 in /usr/lib/python3/dist-packages (from openai) (1.7.0)\n",
            "Collecting httpx<1,>=0.23.0 (from openai)\n",
            "  Downloading httpx-0.25.1-py3-none-any.whl (75 kB)\n",
            "\u001b[2K     \u001b[90m━━━━━━━━━━━━━━━━━━━━━━━━━━━━━━━━━━━━━━━━\u001b[0m \u001b[32m75.0/75.0 kB\u001b[0m \u001b[31m9.1 MB/s\u001b[0m eta \u001b[36m0:00:00\u001b[0m\n",
            "\u001b[?25hRequirement already satisfied: pydantic<3,>=1.9.0 in /usr/local/lib/python3.10/dist-packages (from openai) (1.10.13)\n",
            "Requirement already satisfied: tqdm>4 in /usr/local/lib/python3.10/dist-packages (from openai) (4.66.1)\n",
            "Requirement already satisfied: typing-extensions<5,>=4.5 in /usr/local/lib/python3.10/dist-packages (from openai) (4.5.0)\n",
            "Requirement already satisfied: idna>=2.8 in /usr/local/lib/python3.10/dist-packages (from anyio<4,>=3.5.0->openai) (3.4)\n",
            "Requirement already satisfied: sniffio>=1.1 in /usr/local/lib/python3.10/dist-packages (from anyio<4,>=3.5.0->openai) (1.3.0)\n",
            "Requirement already satisfied: exceptiongroup in /usr/local/lib/python3.10/dist-packages (from anyio<4,>=3.5.0->openai) (1.1.3)\n",
            "Requirement already satisfied: certifi in /usr/local/lib/python3.10/dist-packages (from httpx<1,>=0.23.0->openai) (2023.7.22)\n",
            "Collecting httpcore (from httpx<1,>=0.23.0->openai)\n",
            "  Downloading httpcore-1.0.2-py3-none-any.whl (76 kB)\n",
            "\u001b[2K     \u001b[90m━━━━━━━━━━━━━━━━━━━━━━━━━━━━━━━━━━━━━━━━\u001b[0m \u001b[32m76.9/76.9 kB\u001b[0m \u001b[31m8.7 MB/s\u001b[0m eta \u001b[36m0:00:00\u001b[0m\n",
            "\u001b[?25hCollecting h11<0.15,>=0.13 (from httpcore->httpx<1,>=0.23.0->openai)\n",
            "  Downloading h11-0.14.0-py3-none-any.whl (58 kB)\n",
            "\u001b[2K     \u001b[90m━━━━━━━━━━━━━━━━━━━━━━━━━━━━━━━━━━━━━━━━\u001b[0m \u001b[32m58.3/58.3 kB\u001b[0m \u001b[31m7.3 MB/s\u001b[0m eta \u001b[36m0:00:00\u001b[0m\n",
            "\u001b[?25hInstalling collected packages: h11, httpcore, httpx, openai\n",
            "\u001b[31mERROR: pip's dependency resolver does not currently take into account all the packages that are installed. This behaviour is the source of the following dependency conflicts.\n",
            "llmx 0.0.15a0 requires cohere, which is not installed.\n",
            "llmx 0.0.15a0 requires tiktoken, which is not installed.\u001b[0m\u001b[31m\n",
            "\u001b[0mSuccessfully installed h11-0.14.0 httpcore-1.0.2 httpx-0.25.1 openai-1.3.5\n"
          ]
        }
      ]
    },
    {
      "cell_type": "code",
      "source": [
        "import os\n",
        "import openai\n",
        "import json\n",
        "import csv\n",
        "import pandas as pd\n",
        "\n",
        "f = open(\"chatgptkey.txt\", 'r')\n",
        "line = f.readline()\n",
        "openai.api_key = line\n",
        "\n",
        "from openai import OpenAI\n",
        "client = OpenAI(\n",
        "    # defaults to os.environ.get(\"OPENAI_API_KEY\")\n",
        "    api_key=openai.api_key\n",
        ")\n",
        "\n",
        "df1 = pd.read_csv('drinkdata.csv')\n",
        "frame=pd.DataFrame(df1)\n"
      ],
      "metadata": {
        "id": "3nquZQsN_Xyd"
      },
      "execution_count": null,
      "outputs": []
    },
    {
      "cell_type": "code",
      "source": [
        "rownum=[57]"
      ],
      "metadata": {
        "id": "PgKq0Oiq_zTP"
      },
      "execution_count": null,
      "outputs": []
    },
    {
      "cell_type": "code",
      "source": [
        "df1.iloc[rownum]"
      ],
      "metadata": {
        "id": "70FJbex6Cknd"
      },
      "execution_count": null,
      "outputs": []
    },
    {
      "cell_type": "code",
      "source": [
        "output=[\"\",\"\",\"\",\"\"]\n",
        "import re\n",
        "i=0\n",
        "for row in df1.iloc[rownum]['텍스트 내용']:\n",
        "  description =  row # 원하는 설명문을 입력하세요\n",
        "  response = client.chat.completions.create(\n",
        "  temperature=0.2,\n",
        "  model=\"gpt-3.5-turbo\",\n",
        "    messages=[\n",
        "    {\"role\": \"system\", \"content\": \"주류 데이터를 검색하기 위한 태그를 설명문으로부터 추출하고 싶어. 술에 대한 정보를 포함하는 10자 이내의 태그와 각 태그의 중요도를 ,로 묶어서 출력하고 싶어. \"},\n",
        "    {\"role\": \"system\", \"content\": \"또한 추출한 태그의 중요도를 1에서 10 사이의 수치로 표현해줘. 각 태그가 주관적인지 객관적인지 판단해서, 맛이나 향 등을 포함하거나 주관적이라면 높은 점수를 줘.\"},\n",
        "    {\"role\": \"user\", \"content\": description},\n",
        "  ]\n",
        "  )\n",
        "  tempstr=response.choices[0].message.content\n",
        "  print(tempstr)\n",
        "  if '태그: ' in tempstr and '중요도: ' in tempstr: #fine string\n",
        "    # add tags\n",
        "    lines=tempstr.split('\\n')\n",
        "    if \"\" in lines:\n",
        "      lines.remove(\"\")\n",
        "    if len(lines)!=1 and '태그: ' in lines[0] and '중요도: ' in lines[1]:\n",
        "      #good\n",
        "      print(\"good\")\n",
        "      output[i]=lines[0].replace(\"태그:\",\"\").replace(\" \",\"\")+\"\\n\"+lines[1].replace(\"중요도:\",\"\").replace(\" \",\"\")\n",
        "\n",
        "  elif '태그: ' in tempstr and len(tempstr.split('\\n'))==1:\n",
        "    print(\"oneline\")\n",
        "    p = re.compile('\\(([^)]+)')\n",
        "    tempstr=tempstr+\"\\n\"\n",
        "    for toint in p.findall(tempstr):\n",
        "      tempstr=tempstr+toint+\",\"\n",
        "    tempstr=tempstr+\"\\n\"\n",
        "    tempstr=tempstr.replace(\",\\n\",\"\")\n",
        "    tempstr=re.sub('\\([^)]+\\)','',tempstr)\n",
        "    print(tempstr)\n",
        "    output[i]=tempstr.replace(\"태그:\",\"\").replace(\" \",\"\")\n",
        "  i=i+1\n"
      ],
      "metadata": {
        "colab": {
          "base_uri": "https://localhost:8080/"
        },
        "id": "jOHf8cBr_kt1",
        "outputId": "c3d08e4a-694e-462f-9f89-a46c6bf3ba58"
      },
      "execution_count": null,
      "outputs": [
        {
          "output_type": "stream",
          "name": "stdout",
          "text": [
            "장밋빛의 로제 스파클링 와인, 케이크, 스위트 와인, 디저트\n"
          ]
        }
      ]
    },
    {
      "cell_type": "code",
      "source": [
        "finaloutput"
      ],
      "metadata": {
        "id": "kGEs3F3iB9yd"
      },
      "execution_count": null,
      "outputs": []
    },
    {
      "cell_type": "code",
      "source": [
        "rownum=[39, 57, 88, 130]"
      ],
      "metadata": {
        "id": "k0pN4A2VAd2V"
      },
      "execution_count": null,
      "outputs": []
    },
    {
      "cell_type": "code",
      "source": [],
      "metadata": {
        "colab": {
          "base_uri": "https://localhost:8080/",
          "height": 35
        },
        "id": "iOzU_2PlHwOV",
        "outputId": "3dc3335c-a7a3-4f3f-b5c5-7e52cd440f27"
      },
      "execution_count": null,
      "outputs": [
        {
          "output_type": "execute_result",
          "data": {
            "text/plain": [
              "\"['옥주프리미엄', '곡물향', '원기옥']\""
            ],
            "application/vnd.google.colaboratory.intrinsic+json": {
              "type": "string"
            }
          },
          "metadata": {},
          "execution_count": 93
        }
      ]
    },
    {
      "cell_type": "code",
      "source": [
        "finaloutput\n",
        "for e in finaloutput:\n",
        "  finaloutput[finaloutput.index(e)]=e.replace(\" \",\"\")"
      ],
      "metadata": {
        "id": "tArvQzExABiF"
      },
      "execution_count": null,
      "outputs": []
    },
    {
      "cell_type": "code",
      "source": [
        "#숫자만 존재하면 숫자만 리턴하고, 아니라면 문자열 파싱함\n",
        "\n",
        "import re\n",
        "finaltags=[]\n",
        "finalweight=[]\n",
        "\n",
        "for temp in finaloutput:\n",
        "  line=temp.split(\"\\n\")\n",
        "  tags=line[0].split(\",\")\n",
        "  finaltags.append(tags)\n",
        "  flag=True\n",
        "  try:\n",
        "    for s in line[1].split(\",\"):\n",
        "      if not s.isdigit():\n",
        "        flag=False\n",
        "        break\n",
        "    if not flag:\n",
        "      p = re.compile('\\(([^)]+)')\n",
        "      out=[]\n",
        "      for toint in p.findall(line[1]):\n",
        "        out.append(int(toint))\n",
        "      print(out)\n",
        "      finalweight.append(out)\n",
        "    else:\n",
        "      out=[]\n",
        "      for toint in line[1].split(','):\n",
        "        out.append(int(toint))\n",
        "      print(out)\n",
        "      finalweight.append(out)\n",
        "  except:\n",
        "    finalweight.append([])\n"
      ],
      "metadata": {
        "colab": {
          "base_uri": "https://localhost:8080/"
        },
        "id": "KvXrw747EpJt",
        "outputId": "92e4201f-0fac-4e08-ccd5-99b048617073"
      },
      "execution_count": null,
      "outputs": [
        {
          "output_type": "stream",
          "name": "stdout",
          "text": [
            "[8, 6, 7, 7, 9, 10, 7, 6, 5, 4, 6, 8]\n",
            "[6, 5, 5, 8, 7, 6]\n",
            "[10, 9, 7, 8, 6]\n",
            "[7, 8, 9]\n"
          ]
        }
      ]
    },
    {
      "cell_type": "code",
      "source": [
        "rownum"
      ],
      "metadata": {
        "colab": {
          "base_uri": "https://localhost:8080/"
        },
        "id": "dS5yZQ_fGbml",
        "outputId": "5d227bcc-117b-406e-d227-582a2c0ac6bf"
      },
      "execution_count": null,
      "outputs": [
        {
          "output_type": "execute_result",
          "data": {
            "text/plain": [
              "[39, 57, 88, 130]"
            ]
          },
          "metadata": {},
          "execution_count": 54
        }
      ]
    },
    {
      "cell_type": "code",
      "source": [
        "cnt=0\n",
        "errlst = []\n",
        "for item in gpt_tag['tags']:\n",
        "  if(type(item)==type(\"str\")):\n",
        "    newstr=item.replace(\"#\",\"\").replace(\"\\n\",\"\").replace(\".\",\"\")\n",
        "    if(newstr[0]!='#'):\n",
        "      print(cnt)\n",
        "      errlst.append(cnt)\n",
        "  else:\n",
        "    print(cnt)\n",
        "    errlst.append(cnt)\n",
        "  cnt=cnt+1"
      ],
      "metadata": {
        "id": "viEdfLw1HGE2"
      },
      "execution_count": null,
      "outputs": []
    },
    {
      "cell_type": "code",
      "source": [
        "for idx,row in gpt_tag.iterrows():\n",
        "  #print(row['tags'])\n",
        "  if(\"#\" in row['tags']):\n",
        "    print(idx)\n",
        "    print(row['tags'])"
      ],
      "metadata": {
        "colab": {
          "base_uri": "https://localhost:8080/"
        },
        "id": "Vjrwar0cKUC0",
        "outputId": "aee73fc6-6fb9-4b9c-a4bc-95fcd41aa3a3"
      },
      "execution_count": null,
      "outputs": [
        {
          "output_type": "stream",
          "name": "stdout",
          "text": [
            "128\n",
            "['#옥수수', '#막걸리', '#진짜']\n",
            "129\n",
            "['#요구르트', '#자두풍미', '#새콤']\n",
            "131\n",
            "['#부드러운', '#참외풍미', '#달콤']\n",
            "141\n",
            "['#막걸리#신선함#풍부한맛#향기로움#효모의맛#시간의변화#프리미엄#수제#부드러움#다양한맛']\n"
          ]
        }
      ]
    },
    {
      "cell_type": "code",
      "source": [
        "gpt_tag.loc[141,'tags']"
      ],
      "metadata": {
        "colab": {
          "base_uri": "https://localhost:8080/",
          "height": 35
        },
        "id": "euY5Kc8PKlQt",
        "outputId": "59282711-fe1d-47e0-b756-88fb733452c0"
      },
      "execution_count": null,
      "outputs": [
        {
          "output_type": "execute_result",
          "data": {
            "text/plain": [
              "\"['막걸리','신선함','풍부한맛','향기로움','효모의맛','시간의변화','프리미엄','수제','부드러움','다양한맛']\""
            ],
            "application/vnd.google.colaboratory.intrinsic+json": {
              "type": "string"
            }
          },
          "metadata": {},
          "execution_count": 120
        }
      ]
    },
    {
      "cell_type": "code",
      "source": [
        "#print(str(errlst[0])+\" \"+gpt_tag['텍스트 내용'][errlst[0]]+\".\")"
      ],
      "metadata": {
        "id": "tkn5E3OLDNnK"
      },
      "execution_count": null,
      "outputs": []
    },
    {
      "cell_type": "code",
      "source": [
        "gpt_tag.to_csv('gpt_tag_weight_refined.csv')"
      ],
      "metadata": {
        "id": "njDye7oRN6qt"
      },
      "execution_count": null,
      "outputs": []
    },
    {
      "cell_type": "code",
      "source": [],
      "metadata": {
        "id": "Cq25BectOP7e"
      },
      "execution_count": null,
      "outputs": []
    }
  ]
}