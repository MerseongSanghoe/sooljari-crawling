{
  "nbformat": 4,
  "nbformat_minor": 0,
  "metadata": {
    "colab": {
      "provenance": [],
      "toc_visible": true
    },
    "kernelspec": {
      "name": "python3",
      "display_name": "Python 3"
    },
    "language_info": {
      "name": "python"
    }
  },
  "cells": [
    {
      "cell_type": "markdown",
      "source": [
        "기존 gpt_tag_weight 가 있는 csv파일을  openai api에서 제공하는 학습 데이터 형태의jsonl로 변환하는 코드"
      ],
      "metadata": {
        "id": "iQNuu7UHXrbi"
      }
    },
    {
      "cell_type": "code",
      "execution_count": null,
      "metadata": {
        "id": "3a5rBcEAXn5f"
      },
      "outputs": [],
      "source": [
        "!pip install openai"
      ]
    },
    {
      "cell_type": "code",
      "source": [
        "import os\n",
        "import openai\n",
        "import json\n",
        "import csv\n",
        "import pandas as pd\n",
        "from openai import OpenAI\n",
        "\n",
        "f = open(\"chatgptkey.txt\", 'r')\n",
        "line = f.readline()\n",
        "openai.api_key = line\n",
        "\n",
        "client = OpenAI(\n",
        "    # defaults to os.environ.get(\"OPENAI_API_KEY\")\n",
        "    api_key=openai.api_key\n",
        ")"
      ],
      "metadata": {
        "id": "qOkcpCndYFr5"
      },
      "execution_count": 3,
      "outputs": []
    },
    {
      "cell_type": "markdown",
      "source": [
        "gpt_tag_weight 파일을 가져옴"
      ],
      "metadata": {
        "id": "fls8-3-GYSdB"
      }
    },
    {
      "cell_type": "code",
      "source": [
        "df1 = pd.read_csv('/content/drive/MyDrive/colab_github/sooljari-crawling/gpt/gpt_tag_weight_refined.csv')\n",
        "frame=pd.DataFrame(df1)"
      ],
      "metadata": {
        "id": "IpHMA5fuYGfx"
      },
      "execution_count": 4,
      "outputs": []
    },
    {
      "cell_type": "code",
      "source": [
        "df1"
      ],
      "metadata": {
        "colab": {
          "base_uri": "https://localhost:8080/",
          "height": 614
        },
        "id": "STJGZGEPYeq5",
        "outputId": "7abf7c8c-a138-4e88-a712-89715380110d"
      },
      "execution_count": 11,
      "outputs": [
        {
          "output_type": "execute_result",
          "data": {
            "text/plain": [
              "     Unnamed: 0.1  Unnamed: 0        술 이름  \\\n",
              "0               0           0  고도리 복숭아 와인   \n",
              "1               1           1     고도리 화이트   \n",
              "2               2           2        매실원주   \n",
              "3               3           3           엠   \n",
              "4               4           4        술예쁘다   \n",
              "..            ...         ...         ...   \n",
              "143           143         143         매화수   \n",
              "144           144         144  15년 숙성 매취순   \n",
              "145           145         145   대윤 가야곡 왕주   \n",
              "146           146         146       가야의 魂   \n",
              "147           147         147        님그리다   \n",
              "\n",
              "                                                텍스트 내용  \\\n",
              "0    GAP인증 복숭아로 만든 디저트 와인\\n복숭아의 당도가 가장 높은 8월 말에 수확하...   \n",
              "1    GAP인증 거봉 포도로 만든 신의 물방울\\n포도의 당도가 가장 높은 10월 말에 수...   \n",
              "2    황매실로 담근 100% 매실주\\n\\n국내 유일 기타 과실주를 첨가하지 않고 매실주 ...   \n",
              "3    화사한 메밀향과 스파이시한 목넘김\\n반전매력 가득 메밀 증류주\\n\\n프레시하고 화사...   \n",
              "4                      홍국쌀 특유의 과일향과 새콤달콤함이 인상적인 삼양주 탁주   \n",
              "..                                                 ...   \n",
              "143  ‘저온 냉동 여과공법’을 사용해 부드럽고 깨끗한 맛!\\n매실의 풍미와 달콤함을 부담...   \n",
              "144  ‘매취순’은 국내 최대 매실농원인 전남 해남 ‘보해매실농원’에서 직접 수확한 국산 ...   \n",
              "145   '대윤가야곡주조'는 오랜 전통의 '가야곡왕주'가 '대윤가야곡주조'로 새출발을 하며...   \n",
              "146      가야 양조장의 대표 막걸리\\n\\n     인공 감미료, 첨가물을 넣지 않고 ...   \n",
              "147      가야 양조장의 기다림과 정성\\n\\n     발효,, 오랜 숙성과정(평균 66...   \n",
              "\n",
              "                                                  tags  \\\n",
              "0    ['와인', '복숭아', '디저트', '당도', '발효', '맛', '향', '냉동...   \n",
              "1    ['와인', '화이트와인', '과일향', '아로마틱', '달콤함', '산미', '고...   \n",
              "2    ['매실주', '황매실', '100%', '제주도꿀', '전통제조방법', '향미',...   \n",
              "3    ['메밀향', '스파이시한', '반전매력', '프레시', '화사한', '정통', '...   \n",
              "4                        ['삼양주', '탁주', '과일향', '새콤달콤함']   \n",
              "..                                                 ...   \n",
              "143  ['부드럽고깨끗한맛', '매실의풍미', '달콤함', '12도도수', '매화꽃디자인'...   \n",
              "144  ['매취순', '매실주', '청매실', '프리미엄', '국산', '해남', '보해매...   \n",
              "145  ['대윤가야곡주조', '가야곡왕주', '약주', '궁중술', '왕주', '역사', ...   \n",
              "146  ['대표막걸리', '인공감미료없음', '첨가물없음', '가야양조장', '발효기술',...   \n",
              "147  ['발효', '오랜숙성', '저온숙성', '기다림의미학', '풍부한맛', '풍부한향...   \n",
              "\n",
              "                                                weight  \n",
              "0           [8, 9, 6, 7, 7, 8, 8, 5, 7, 6, 8, 6, 6, 6]  \n",
              "1                          [8, 7, 7, 6, 6, 6, 5, 5, 4]  \n",
              "2                               [10, 9, 5, 7, 8, 6, 9]  \n",
              "3                          [9, 8, 9, 7, 7, 8, 7, 6, 8]  \n",
              "4                                        [10, 9, 8, 7]  \n",
              "..                                                 ...  \n",
              "143  [8, 9, 7, 6, 5, 8, 7, 7, 6, 7, 8, 6, 6, 6, 6, ...  \n",
              "144                     [9, 8, 7, 6, 5, 4, 3, 2, 2, 1]  \n",
              "145  [10, 9, 8, 7, 7, 6, 6, 5, 5, 4, 4, 3, 3, 2, 2,...  \n",
              "146                        [8, 9, 9, 7, 8, 8, 9, 8, 9]  \n",
              "147                           [8, 7, 7, 9, 9, 9, 6, 9]  \n",
              "\n",
              "[148 rows x 6 columns]"
            ],
            "text/html": [
              "\n",
              "  <div id=\"df-b1e6501b-1ab3-43f2-8f43-90cdad2568d4\" class=\"colab-df-container\">\n",
              "    <div>\n",
              "<style scoped>\n",
              "    .dataframe tbody tr th:only-of-type {\n",
              "        vertical-align: middle;\n",
              "    }\n",
              "\n",
              "    .dataframe tbody tr th {\n",
              "        vertical-align: top;\n",
              "    }\n",
              "\n",
              "    .dataframe thead th {\n",
              "        text-align: right;\n",
              "    }\n",
              "</style>\n",
              "<table border=\"1\" class=\"dataframe\">\n",
              "  <thead>\n",
              "    <tr style=\"text-align: right;\">\n",
              "      <th></th>\n",
              "      <th>Unnamed: 0.1</th>\n",
              "      <th>Unnamed: 0</th>\n",
              "      <th>술 이름</th>\n",
              "      <th>텍스트 내용</th>\n",
              "      <th>tags</th>\n",
              "      <th>weight</th>\n",
              "    </tr>\n",
              "  </thead>\n",
              "  <tbody>\n",
              "    <tr>\n",
              "      <th>0</th>\n",
              "      <td>0</td>\n",
              "      <td>0</td>\n",
              "      <td>고도리 복숭아 와인</td>\n",
              "      <td>GAP인증 복숭아로 만든 디저트 와인\\n복숭아의 당도가 가장 높은 8월 말에 수확하...</td>\n",
              "      <td>['와인', '복숭아', '디저트', '당도', '발효', '맛', '향', '냉동...</td>\n",
              "      <td>[8, 9, 6, 7, 7, 8, 8, 5, 7, 6, 8, 6, 6, 6]</td>\n",
              "    </tr>\n",
              "    <tr>\n",
              "      <th>1</th>\n",
              "      <td>1</td>\n",
              "      <td>1</td>\n",
              "      <td>고도리 화이트</td>\n",
              "      <td>GAP인증 거봉 포도로 만든 신의 물방울\\n포도의 당도가 가장 높은 10월 말에 수...</td>\n",
              "      <td>['와인', '화이트와인', '과일향', '아로마틱', '달콤함', '산미', '고...</td>\n",
              "      <td>[8, 7, 7, 6, 6, 6, 5, 5, 4]</td>\n",
              "    </tr>\n",
              "    <tr>\n",
              "      <th>2</th>\n",
              "      <td>2</td>\n",
              "      <td>2</td>\n",
              "      <td>매실원주</td>\n",
              "      <td>황매실로 담근 100% 매실주\\n\\n국내 유일 기타 과실주를 첨가하지 않고 매실주 ...</td>\n",
              "      <td>['매실주', '황매실', '100%', '제주도꿀', '전통제조방법', '향미',...</td>\n",
              "      <td>[10, 9, 5, 7, 8, 6, 9]</td>\n",
              "    </tr>\n",
              "    <tr>\n",
              "      <th>3</th>\n",
              "      <td>3</td>\n",
              "      <td>3</td>\n",
              "      <td>엠</td>\n",
              "      <td>화사한 메밀향과 스파이시한 목넘김\\n반전매력 가득 메밀 증류주\\n\\n프레시하고 화사...</td>\n",
              "      <td>['메밀향', '스파이시한', '반전매력', '프레시', '화사한', '정통', '...</td>\n",
              "      <td>[9, 8, 9, 7, 7, 8, 7, 6, 8]</td>\n",
              "    </tr>\n",
              "    <tr>\n",
              "      <th>4</th>\n",
              "      <td>4</td>\n",
              "      <td>4</td>\n",
              "      <td>술예쁘다</td>\n",
              "      <td>홍국쌀 특유의 과일향과 새콤달콤함이 인상적인 삼양주 탁주</td>\n",
              "      <td>['삼양주', '탁주', '과일향', '새콤달콤함']</td>\n",
              "      <td>[10, 9, 8, 7]</td>\n",
              "    </tr>\n",
              "    <tr>\n",
              "      <th>...</th>\n",
              "      <td>...</td>\n",
              "      <td>...</td>\n",
              "      <td>...</td>\n",
              "      <td>...</td>\n",
              "      <td>...</td>\n",
              "      <td>...</td>\n",
              "    </tr>\n",
              "    <tr>\n",
              "      <th>143</th>\n",
              "      <td>143</td>\n",
              "      <td>143</td>\n",
              "      <td>매화수</td>\n",
              "      <td>‘저온 냉동 여과공법’을 사용해 부드럽고 깨끗한 맛!\\n매실의 풍미와 달콤함을 부담...</td>\n",
              "      <td>['부드럽고깨끗한맛', '매실의풍미', '달콤함', '12도도수', '매화꽃디자인'...</td>\n",
              "      <td>[8, 9, 7, 6, 5, 8, 7, 7, 6, 7, 8, 6, 6, 6, 6, ...</td>\n",
              "    </tr>\n",
              "    <tr>\n",
              "      <th>144</th>\n",
              "      <td>144</td>\n",
              "      <td>144</td>\n",
              "      <td>15년 숙성 매취순</td>\n",
              "      <td>‘매취순’은 국내 최대 매실농원인 전남 해남 ‘보해매실농원’에서 직접 수확한 국산 ...</td>\n",
              "      <td>['매취순', '매실주', '청매실', '프리미엄', '국산', '해남', '보해매...</td>\n",
              "      <td>[9, 8, 7, 6, 5, 4, 3, 2, 2, 1]</td>\n",
              "    </tr>\n",
              "    <tr>\n",
              "      <th>145</th>\n",
              "      <td>145</td>\n",
              "      <td>145</td>\n",
              "      <td>대윤 가야곡 왕주</td>\n",
              "      <td>'대윤가야곡주조'는 오랜 전통의 '가야곡왕주'가 '대윤가야곡주조'로 새출발을 하며...</td>\n",
              "      <td>['대윤가야곡주조', '가야곡왕주', '약주', '궁중술', '왕주', '역사', ...</td>\n",
              "      <td>[10, 9, 8, 7, 7, 6, 6, 5, 5, 4, 4, 3, 3, 2, 2,...</td>\n",
              "    </tr>\n",
              "    <tr>\n",
              "      <th>146</th>\n",
              "      <td>146</td>\n",
              "      <td>146</td>\n",
              "      <td>가야의 魂</td>\n",
              "      <td>가야 양조장의 대표 막걸리\\n\\n     인공 감미료, 첨가물을 넣지 않고 ...</td>\n",
              "      <td>['대표막걸리', '인공감미료없음', '첨가물없음', '가야양조장', '발효기술',...</td>\n",
              "      <td>[8, 9, 9, 7, 8, 8, 9, 8, 9]</td>\n",
              "    </tr>\n",
              "    <tr>\n",
              "      <th>147</th>\n",
              "      <td>147</td>\n",
              "      <td>147</td>\n",
              "      <td>님그리다</td>\n",
              "      <td>가야 양조장의 기다림과 정성\\n\\n     발효,, 오랜 숙성과정(평균 66...</td>\n",
              "      <td>['발효', '오랜숙성', '저온숙성', '기다림의미학', '풍부한맛', '풍부한향...</td>\n",
              "      <td>[8, 7, 7, 9, 9, 9, 6, 9]</td>\n",
              "    </tr>\n",
              "  </tbody>\n",
              "</table>\n",
              "<p>148 rows × 6 columns</p>\n",
              "</div>\n",
              "    <div class=\"colab-df-buttons\">\n",
              "\n",
              "  <div class=\"colab-df-container\">\n",
              "    <button class=\"colab-df-convert\" onclick=\"convertToInteractive('df-b1e6501b-1ab3-43f2-8f43-90cdad2568d4')\"\n",
              "            title=\"Convert this dataframe to an interactive table.\"\n",
              "            style=\"display:none;\">\n",
              "\n",
              "  <svg xmlns=\"http://www.w3.org/2000/svg\" height=\"24px\" viewBox=\"0 -960 960 960\">\n",
              "    <path d=\"M120-120v-720h720v720H120Zm60-500h600v-160H180v160Zm220 220h160v-160H400v160Zm0 220h160v-160H400v160ZM180-400h160v-160H180v160Zm440 0h160v-160H620v160ZM180-180h160v-160H180v160Zm440 0h160v-160H620v160Z\"/>\n",
              "  </svg>\n",
              "    </button>\n",
              "\n",
              "  <style>\n",
              "    .colab-df-container {\n",
              "      display:flex;\n",
              "      gap: 12px;\n",
              "    }\n",
              "\n",
              "    .colab-df-convert {\n",
              "      background-color: #E8F0FE;\n",
              "      border: none;\n",
              "      border-radius: 50%;\n",
              "      cursor: pointer;\n",
              "      display: none;\n",
              "      fill: #1967D2;\n",
              "      height: 32px;\n",
              "      padding: 0 0 0 0;\n",
              "      width: 32px;\n",
              "    }\n",
              "\n",
              "    .colab-df-convert:hover {\n",
              "      background-color: #E2EBFA;\n",
              "      box-shadow: 0px 1px 2px rgba(60, 64, 67, 0.3), 0px 1px 3px 1px rgba(60, 64, 67, 0.15);\n",
              "      fill: #174EA6;\n",
              "    }\n",
              "\n",
              "    .colab-df-buttons div {\n",
              "      margin-bottom: 4px;\n",
              "    }\n",
              "\n",
              "    [theme=dark] .colab-df-convert {\n",
              "      background-color: #3B4455;\n",
              "      fill: #D2E3FC;\n",
              "    }\n",
              "\n",
              "    [theme=dark] .colab-df-convert:hover {\n",
              "      background-color: #434B5C;\n",
              "      box-shadow: 0px 1px 3px 1px rgba(0, 0, 0, 0.15);\n",
              "      filter: drop-shadow(0px 1px 2px rgba(0, 0, 0, 0.3));\n",
              "      fill: #FFFFFF;\n",
              "    }\n",
              "  </style>\n",
              "\n",
              "    <script>\n",
              "      const buttonEl =\n",
              "        document.querySelector('#df-b1e6501b-1ab3-43f2-8f43-90cdad2568d4 button.colab-df-convert');\n",
              "      buttonEl.style.display =\n",
              "        google.colab.kernel.accessAllowed ? 'block' : 'none';\n",
              "\n",
              "      async function convertToInteractive(key) {\n",
              "        const element = document.querySelector('#df-b1e6501b-1ab3-43f2-8f43-90cdad2568d4');\n",
              "        const dataTable =\n",
              "          await google.colab.kernel.invokeFunction('convertToInteractive',\n",
              "                                                    [key], {});\n",
              "        if (!dataTable) return;\n",
              "\n",
              "        const docLinkHtml = 'Like what you see? Visit the ' +\n",
              "          '<a target=\"_blank\" href=https://colab.research.google.com/notebooks/data_table.ipynb>data table notebook</a>'\n",
              "          + ' to learn more about interactive tables.';\n",
              "        element.innerHTML = '';\n",
              "        dataTable['output_type'] = 'display_data';\n",
              "        await google.colab.output.renderOutput(dataTable, element);\n",
              "        const docLink = document.createElement('div');\n",
              "        docLink.innerHTML = docLinkHtml;\n",
              "        element.appendChild(docLink);\n",
              "      }\n",
              "    </script>\n",
              "  </div>\n",
              "\n",
              "\n",
              "<div id=\"df-d0db36cd-917a-4e14-bcc9-5a1aded5878c\">\n",
              "  <button class=\"colab-df-quickchart\" onclick=\"quickchart('df-d0db36cd-917a-4e14-bcc9-5a1aded5878c')\"\n",
              "            title=\"Suggest charts\"\n",
              "            style=\"display:none;\">\n",
              "\n",
              "<svg xmlns=\"http://www.w3.org/2000/svg\" height=\"24px\"viewBox=\"0 0 24 24\"\n",
              "     width=\"24px\">\n",
              "    <g>\n",
              "        <path d=\"M19 3H5c-1.1 0-2 .9-2 2v14c0 1.1.9 2 2 2h14c1.1 0 2-.9 2-2V5c0-1.1-.9-2-2-2zM9 17H7v-7h2v7zm4 0h-2V7h2v10zm4 0h-2v-4h2v4z\"/>\n",
              "    </g>\n",
              "</svg>\n",
              "  </button>\n",
              "\n",
              "<style>\n",
              "  .colab-df-quickchart {\n",
              "      --bg-color: #E8F0FE;\n",
              "      --fill-color: #1967D2;\n",
              "      --hover-bg-color: #E2EBFA;\n",
              "      --hover-fill-color: #174EA6;\n",
              "      --disabled-fill-color: #AAA;\n",
              "      --disabled-bg-color: #DDD;\n",
              "  }\n",
              "\n",
              "  [theme=dark] .colab-df-quickchart {\n",
              "      --bg-color: #3B4455;\n",
              "      --fill-color: #D2E3FC;\n",
              "      --hover-bg-color: #434B5C;\n",
              "      --hover-fill-color: #FFFFFF;\n",
              "      --disabled-bg-color: #3B4455;\n",
              "      --disabled-fill-color: #666;\n",
              "  }\n",
              "\n",
              "  .colab-df-quickchart {\n",
              "    background-color: var(--bg-color);\n",
              "    border: none;\n",
              "    border-radius: 50%;\n",
              "    cursor: pointer;\n",
              "    display: none;\n",
              "    fill: var(--fill-color);\n",
              "    height: 32px;\n",
              "    padding: 0;\n",
              "    width: 32px;\n",
              "  }\n",
              "\n",
              "  .colab-df-quickchart:hover {\n",
              "    background-color: var(--hover-bg-color);\n",
              "    box-shadow: 0 1px 2px rgba(60, 64, 67, 0.3), 0 1px 3px 1px rgba(60, 64, 67, 0.15);\n",
              "    fill: var(--button-hover-fill-color);\n",
              "  }\n",
              "\n",
              "  .colab-df-quickchart-complete:disabled,\n",
              "  .colab-df-quickchart-complete:disabled:hover {\n",
              "    background-color: var(--disabled-bg-color);\n",
              "    fill: var(--disabled-fill-color);\n",
              "    box-shadow: none;\n",
              "  }\n",
              "\n",
              "  .colab-df-spinner {\n",
              "    border: 2px solid var(--fill-color);\n",
              "    border-color: transparent;\n",
              "    border-bottom-color: var(--fill-color);\n",
              "    animation:\n",
              "      spin 1s steps(1) infinite;\n",
              "  }\n",
              "\n",
              "  @keyframes spin {\n",
              "    0% {\n",
              "      border-color: transparent;\n",
              "      border-bottom-color: var(--fill-color);\n",
              "      border-left-color: var(--fill-color);\n",
              "    }\n",
              "    20% {\n",
              "      border-color: transparent;\n",
              "      border-left-color: var(--fill-color);\n",
              "      border-top-color: var(--fill-color);\n",
              "    }\n",
              "    30% {\n",
              "      border-color: transparent;\n",
              "      border-left-color: var(--fill-color);\n",
              "      border-top-color: var(--fill-color);\n",
              "      border-right-color: var(--fill-color);\n",
              "    }\n",
              "    40% {\n",
              "      border-color: transparent;\n",
              "      border-right-color: var(--fill-color);\n",
              "      border-top-color: var(--fill-color);\n",
              "    }\n",
              "    60% {\n",
              "      border-color: transparent;\n",
              "      border-right-color: var(--fill-color);\n",
              "    }\n",
              "    80% {\n",
              "      border-color: transparent;\n",
              "      border-right-color: var(--fill-color);\n",
              "      border-bottom-color: var(--fill-color);\n",
              "    }\n",
              "    90% {\n",
              "      border-color: transparent;\n",
              "      border-bottom-color: var(--fill-color);\n",
              "    }\n",
              "  }\n",
              "</style>\n",
              "\n",
              "  <script>\n",
              "    async function quickchart(key) {\n",
              "      const quickchartButtonEl =\n",
              "        document.querySelector('#' + key + ' button');\n",
              "      quickchartButtonEl.disabled = true;  // To prevent multiple clicks.\n",
              "      quickchartButtonEl.classList.add('colab-df-spinner');\n",
              "      try {\n",
              "        const charts = await google.colab.kernel.invokeFunction(\n",
              "            'suggestCharts', [key], {});\n",
              "      } catch (error) {\n",
              "        console.error('Error during call to suggestCharts:', error);\n",
              "      }\n",
              "      quickchartButtonEl.classList.remove('colab-df-spinner');\n",
              "      quickchartButtonEl.classList.add('colab-df-quickchart-complete');\n",
              "    }\n",
              "    (() => {\n",
              "      let quickchartButtonEl =\n",
              "        document.querySelector('#df-d0db36cd-917a-4e14-bcc9-5a1aded5878c button');\n",
              "      quickchartButtonEl.style.display =\n",
              "        google.colab.kernel.accessAllowed ? 'block' : 'none';\n",
              "    })();\n",
              "  </script>\n",
              "</div>\n",
              "    </div>\n",
              "  </div>\n"
            ]
          },
          "metadata": {},
          "execution_count": 11
        }
      ]
    },
    {
      "cell_type": "markdown",
      "source": [
        "가져온 데이터의 무결성을 검사하고 line별로 json로 변환함 (JSONLine)\n",
        "\n"
      ],
      "metadata": {
        "id": "qhcV8G7CYjMp"
      }
    },
    {
      "cell_type": "code",
      "source": [
        "pip install tiktoken"
      ],
      "metadata": {
        "id": "S6oONIuMbJFZ"
      },
      "execution_count": null,
      "outputs": []
    },
    {
      "cell_type": "code",
      "source": [
        "gpt_tag_errorline=[]\n",
        "jsonlines=[]"
      ],
      "metadata": {
        "id": "KNj75i09aI9J"
      },
      "execution_count": 25,
      "outputs": []
    },
    {
      "cell_type": "code",
      "source": [
        "import ast\n",
        "from functools import reduce\n",
        "\n",
        "for idx,row in df1.iterrows():\n",
        "  if len(row['tags'].split(','))!=len(row['weight'].split(',')):\n",
        "    gpt_tag_errorline.append(idx)\n",
        "    continue\n",
        "  description=row['텍스트 내용']\n",
        "  taglst=ast.literal_eval(row['tags'])\n",
        "  weightlst=ast.literal_eval(row['weight'])\n",
        "  tagtostr=\",\".join(taglst)\n",
        "  add = lambda x, y: str(x) + \",\" + str(y)\n",
        "  weighttostr = reduce(add, weightlst)\n",
        "  to_json={\"messages\": [{\"role\": \"system\", \"content\": \"주류 데이터를 검색하기 위한 태그를 설명문으로부터 추출하고 싶어. 술에 대한 정보를 포함하는 10자 이내의 태그와 각 태그의 중요도를 ,로 묶어서 출력하고 싶어. \"},\n",
        "{\"role\": \"system\", \"content\": \"또한 추출한 태그의 중요도를 1에서 10 사이의 수치로 표현해줘. 각 태그가 주관적인지 객관적인지 판단해서, 맛이나 향 등을 포함하거나 주관적이라면 높은 점수를 줘.\"},\n",
        "{\"role\": \"user\", \"content\": description},{\"role\": \"assistant\", \"content\":tagtostr+\"\\n\"+weighttostr}]}\n",
        "  jsonlines.append(to_json)"
      ],
      "metadata": {
        "id": "NU1nnQ8iYin5"
      },
      "execution_count": 26,
      "outputs": []
    },
    {
      "cell_type": "code",
      "source": [
        "\n",
        "from collections import OrderedDict\n",
        "with open(\"target_data.jsonl\", \"w\", encoding=\"utf-8\") as f:\n",
        "  for datas in jsonlines:\n",
        "    json.dump(datas, f, ensure_ascii=False) # ensure_ascii로 한글이 깨지지 않게 저장\n",
        "    f.write(\"\\n\") # json을 쓰는 것과 같지만, 여러 줄을 써주는 것이므로 \"\\n\"을 붙여준다.\n",
        "  f.close()"
      ],
      "metadata": {
        "id": "T3S49SPNd4Mp"
      },
      "execution_count": 27,
      "outputs": []
    },
    {
      "cell_type": "markdown",
      "source": [
        "변환해서 만든 데이터가 학습에 적합한지 확인하는 openai의 코드"
      ],
      "metadata": {
        "id": "1s5MTwEabX_g"
      }
    },
    {
      "cell_type": "code",
      "source": [
        "data_path = \"target_data.jsonl\"\n",
        "\n",
        "# Load the dataset\n",
        "with open(data_path, 'r', encoding='utf-8') as f:\n",
        "    dataset = [json.loads(line) for line in f]\n",
        "\n",
        "# Initial dataset stats\n",
        "print(\"Num examples:\", len(dataset))\n",
        "print(\"First example:\")\n",
        "for message in dataset[0][\"messages\"]:\n",
        "    print(message)"
      ],
      "metadata": {
        "colab": {
          "base_uri": "https://localhost:8080/"
        },
        "id": "I61GuNlobUWB",
        "outputId": "d3241a16-fccb-4660-a1f9-7ae37ca80a90"
      },
      "execution_count": 30,
      "outputs": [
        {
          "output_type": "stream",
          "name": "stdout",
          "text": [
            "Num examples: 140\n",
            "First example:\n",
            "{'role': 'system', 'content': '주류 데이터를 검색하기 위한 태그를 설명문으로부터 추출하고 싶어. 술에 대한 정보를 포함하는 10자 이내의 태그와 각 태그의 중요도를 ,로 묶어서 출력하고 싶어. '}\n",
            "{'role': 'system', 'content': '또한 추출한 태그의 중요도를 1에서 10 사이의 수치로 표현해줘. 각 태그가 주관적인지 객관적인지 판단해서, 맛이나 향 등을 포함하거나 주관적이라면 높은 점수를 줘.'}\n",
            "{'role': 'user', 'content': 'GAP인증 복숭아로 만든 디저트 와인\\n복숭아의 당도가 가장 높은 8월 말에 수확하여 별도의 당을 첨가하지 안히고 순수 발효한 와인이며 복숭아를 발효하여 끝에서 느껴지는 복숭아의 부드럽고 향긋한 맛과 향이 특징입니다\\n고도리 복숭아와인은 복숭아를 8월 말 가장 당이 높고 향기가 무르익었을 때 수확하여 -10도에서 20일간 냉동 숙성시켜, 당이 35BX되었을때 파쇄 후 발효시켜 만든 복숭아 아이스 와인입니다. 풍부한 복숭아 향을 담고 있어 더위의 갈증을 시원하게 해소시켜 줍니다.\\n고도리 복숭아와인은 미디엄 스위트 와인으로 풍부한 산과 복숭아의 아로마 향으로 생선 요리나 흰 살코기 닭과 오리를 이용한 요리와 잘 어울립니다.'}\n",
            "{'role': 'assistant', 'content': '와인,복숭아,디저트,당도,발효,맛,향,냉동숙성,아이스와인,산,아로마향,생선요리,살코기닭,오리\\n8,9,6,7,7,8,8,5,7,6,8,6,6,6'}\n"
          ]
        }
      ]
    },
    {
      "cell_type": "code",
      "source": [
        "# Format error checks\n",
        "import json\n",
        "import tiktoken # for token counting\n",
        "import numpy as np\n",
        "from collections import defaultdict\n",
        "\n",
        "format_errors = defaultdict(int)\n",
        "\n",
        "for ex in dataset:\n",
        "    if not isinstance(ex, dict):\n",
        "        format_errors[\"data_type\"] += 1\n",
        "        continue\n",
        "\n",
        "    messages = ex.get(\"messages\", None)\n",
        "    if not messages:\n",
        "        format_errors[\"missing_messages_list\"] += 1\n",
        "        continue\n",
        "\n",
        "    for message in messages:\n",
        "        if \"role\" not in message or \"content\" not in message:\n",
        "            format_errors[\"message_missing_key\"] += 1\n",
        "\n",
        "        if any(k not in (\"role\", \"content\", \"name\", \"function_call\") for k in message):\n",
        "            format_errors[\"message_unrecognized_key\"] += 1\n",
        "\n",
        "        if message.get(\"role\", None) not in (\"system\", \"user\", \"assistant\", \"function\"):\n",
        "            format_errors[\"unrecognized_role\"] += 1\n",
        "\n",
        "        content = message.get(\"content\", None)\n",
        "        function_call = message.get(\"function_call\", None)\n",
        "\n",
        "        if (not content and not function_call) or not isinstance(content, str):\n",
        "            format_errors[\"missing_content\"] += 1\n",
        "\n",
        "    if not any(message.get(\"role\", None) == \"assistant\" for message in messages):\n",
        "        format_errors[\"example_missing_assistant_message\"] += 1\n",
        "\n",
        "if format_errors:\n",
        "    print(\"Found errors:\")\n",
        "    for k, v in format_errors.items():\n",
        "        print(f\"{k}: {v}\")\n",
        "else:\n",
        "    print(\"No errors found\")"
      ],
      "metadata": {
        "colab": {
          "base_uri": "https://localhost:8080/"
        },
        "id": "owpzU0kYawo5",
        "outputId": "e6516fcd-813c-47b4-d333-737f77a5f807"
      },
      "execution_count": 31,
      "outputs": [
        {
          "output_type": "stream",
          "name": "stdout",
          "text": [
            "No errors found\n"
          ]
        }
      ]
    },
    {
      "cell_type": "markdown",
      "source": [
        "유용한 함수들 정의 가져옴"
      ],
      "metadata": {
        "id": "EKxqzLIOfJ4I"
      }
    },
    {
      "cell_type": "code",
      "source": [
        "encoding = tiktoken.get_encoding(\"cl100k_base\")\n",
        "\n",
        "# not exact!\n",
        "# simplified from https://github.com/openai/openai-cookbook/blob/main/examples/How_to_count_tokens_with_tiktoken.ipynb\n",
        "def num_tokens_from_messages(messages, tokens_per_message=3, tokens_per_name=1):\n",
        "    num_tokens = 0\n",
        "    for message in messages:\n",
        "        num_tokens += tokens_per_message\n",
        "        for key, value in message.items():\n",
        "            num_tokens += len(encoding.encode(value))\n",
        "            if key == \"name\":\n",
        "                num_tokens += tokens_per_name\n",
        "    num_tokens += 3\n",
        "    return num_tokens\n",
        "\n",
        "def num_assistant_tokens_from_messages(messages):\n",
        "    num_tokens = 0\n",
        "    for message in messages:\n",
        "        if message[\"role\"] == \"assistant\":\n",
        "            num_tokens += len(encoding.encode(message[\"content\"]))\n",
        "    return num_tokens\n",
        "\n",
        "def print_distribution(values, name):\n",
        "    print(f\"\\n#### Distribution of {name}:\")\n",
        "    print(f\"min / max: {min(values)}, {max(values)}\")\n",
        "    print(f\"mean / median: {np.mean(values)}, {np.median(values)}\")\n",
        "    print(f\"p5 / p95: {np.quantile(values, 0.1)}, {np.quantile(values, 0.9)}\")"
      ],
      "metadata": {
        "id": "avMG5Ud_fJLQ"
      },
      "execution_count": 33,
      "outputs": []
    },
    {
      "cell_type": "markdown",
      "source": [
        "오류 체크 및 예상 토큰 개수 계산"
      ],
      "metadata": {
        "id": "yxOGKHbffSJw"
      }
    },
    {
      "cell_type": "code",
      "source": [
        "# Warnings and tokens counts\n",
        "n_missing_system = 0\n",
        "n_missing_user = 0\n",
        "n_messages = []\n",
        "convo_lens = []\n",
        "assistant_message_lens = []\n",
        "\n",
        "for ex in dataset:\n",
        "    messages = ex[\"messages\"]\n",
        "    if not any(message[\"role\"] == \"system\" for message in messages):\n",
        "        n_missing_system += 1\n",
        "    if not any(message[\"role\"] == \"user\" for message in messages):\n",
        "        n_missing_user += 1\n",
        "    n_messages.append(len(messages))\n",
        "    convo_lens.append(num_tokens_from_messages(messages))\n",
        "    assistant_message_lens.append(num_assistant_tokens_from_messages(messages))\n",
        "\n",
        "print(\"Num examples missing system message:\", n_missing_system)\n",
        "print(\"Num examples missing user message:\", n_missing_user)\n",
        "print_distribution(n_messages, \"num_messages_per_example\")\n",
        "print_distribution(convo_lens, \"num_total_tokens_per_example\")\n",
        "print_distribution(assistant_message_lens, \"num_assistant_tokens_per_example\")\n",
        "n_too_long = sum(l > 4096 for l in convo_lens)\n",
        "print(f\"\\n{n_too_long} examples may be over the 4096 token limit, they will be truncated during fine-tuning\")"
      ],
      "metadata": {
        "colab": {
          "base_uri": "https://localhost:8080/"
        },
        "id": "uiglnzMdfMeJ",
        "outputId": "8f62a734-515b-4032-b933-594ff85ba756"
      },
      "execution_count": 34,
      "outputs": [
        {
          "output_type": "stream",
          "name": "stdout",
          "text": [
            "Num examples missing system message: 0\n",
            "Num examples missing user message: 0\n",
            "\n",
            "#### Distribution of num_messages_per_example:\n",
            "min / max: 4, 4\n",
            "mean / median: 4.0, 4.0\n",
            "p5 / p95: 4.0, 4.0\n",
            "\n",
            "#### Distribution of num_total_tokens_per_example:\n",
            "min / max: 231, 1336\n",
            "mean / median: 467.8071428571429, 435.5\n",
            "p5 / p95: 262.0, 703.1000000000004\n",
            "\n",
            "#### Distribution of num_assistant_tokens_per_example:\n",
            "min / max: 18, 152\n",
            "mean / median: 65.87857142857143, 68.5\n",
            "p5 / p95: 29.0, 99.0\n",
            "\n",
            "0 examples may be over the 4096 token limit, they will be truncated during fine-tuning\n"
          ]
        }
      ]
    },
    {
      "cell_type": "markdown",
      "source": [
        "계산한 토큰 수 및 학습 시간으로 추측할 수 있는 가격 계산"
      ],
      "metadata": {
        "id": "Oet2sUPofjDA"
      }
    },
    {
      "cell_type": "code",
      "source": [
        "# Pricing and default n_epochs estimate\n",
        "MAX_TOKENS_PER_EXAMPLE = 4096\n",
        "\n",
        "TARGET_EPOCHS = 3\n",
        "MIN_TARGET_EXAMPLES = 100\n",
        "MAX_TARGET_EXAMPLES = 25000\n",
        "MIN_DEFAULT_EPOCHS = 1\n",
        "MAX_DEFAULT_EPOCHS = 25\n",
        "\n",
        "n_epochs = TARGET_EPOCHS\n",
        "n_train_examples = len(dataset)\n",
        "if n_train_examples * TARGET_EPOCHS < MIN_TARGET_EXAMPLES:\n",
        "    n_epochs = min(MAX_DEFAULT_EPOCHS, MIN_TARGET_EXAMPLES // n_train_examples)\n",
        "elif n_train_examples * TARGET_EPOCHS > MAX_TARGET_EXAMPLES:\n",
        "    n_epochs = max(MIN_DEFAULT_EPOCHS, MAX_TARGET_EXAMPLES // n_train_examples)\n",
        "\n",
        "n_billing_tokens_in_dataset = sum(min(MAX_TOKENS_PER_EXAMPLE, length) for length in convo_lens)\n",
        "print(f\"Dataset has ~{n_billing_tokens_in_dataset} tokens that will be charged for during training\")\n",
        "print(f\"By default, you'll train for {n_epochs} epochs on this dataset\")\n",
        "print(f\"By default, you'll be charged for ~{n_epochs * n_billing_tokens_in_dataset} tokens\")"
      ],
      "metadata": {
        "colab": {
          "base_uri": "https://localhost:8080/"
        },
        "id": "GBSQWKMlfis5",
        "outputId": "6eb8c386-bc27-491f-9682-f7025406c914"
      },
      "execution_count": 35,
      "outputs": [
        {
          "output_type": "stream",
          "name": "stdout",
          "text": [
            "Dataset has ~65493 tokens that will be charged for during training\n",
            "By default, you'll train for 3 epochs on this dataset\n",
            "By default, you'll be charged for ~196479 tokens\n"
          ]
        }
      ]
    },
    {
      "cell_type": "markdown",
      "source": [
        "학습 시작"
      ],
      "metadata": {
        "id": "pIrk2dPsf3Hy"
      }
    },
    {
      "cell_type": "code",
      "source": [
        "client.files.create(\n",
        "  file=open(\"target_data.jsonl\", \"rb\"),\n",
        "  purpose=\"fine-tune\"\n",
        ")"
      ],
      "metadata": {
        "colab": {
          "base_uri": "https://localhost:8080/"
        },
        "id": "_RKkrIQrf4HQ",
        "outputId": "79e4716f-b2dd-4bcd-ff52-0f0562d3ba91"
      },
      "execution_count": 36,
      "outputs": [
        {
          "output_type": "execute_result",
          "data": {
            "text/plain": [
              "FileObject(id='file-AtyWWLfHIXPKLCX9SgvZw0eO', bytes=169457, created_at=1702107280, filename='target_data.jsonl', object='file', purpose='fine-tune', status='processed', status_details=None)"
            ]
          },
          "metadata": {},
          "execution_count": 36
        }
      ]
    },
    {
      "cell_type": "code",
      "source": [
        "client.fine_tuning.jobs.create(\n",
        "  training_file=\"file-AtyWWLfHIXPKLCX9SgvZw0eO\",\n",
        "  model=\"gpt-3.5-turbo\"\n",
        ")"
      ],
      "metadata": {
        "colab": {
          "base_uri": "https://localhost:8080/"
        },
        "id": "ih5pjDShgGcR",
        "outputId": "9587e608-93be-4daa-f1c1-868736149807"
      },
      "execution_count": 37,
      "outputs": [
        {
          "output_type": "execute_result",
          "data": {
            "text/plain": [
              "FineTuningJob(id='ftjob-BVJ1pyw1eUaykUhCqY6xR5VP', created_at=1702107506, error=None, fine_tuned_model=None, finished_at=None, hyperparameters=Hyperparameters(n_epochs='auto', batch_size='auto', learning_rate_multiplier='auto'), model='gpt-3.5-turbo-0613', object='fine_tuning.job', organization_id='org-eOujTwd2bK4aMqI7Oe49Tygg', result_files=[], status='validating_files', trained_tokens=None, training_file='file-AtyWWLfHIXPKLCX9SgvZw0eO', validation_file=None)"
            ]
          },
          "metadata": {},
          "execution_count": 37
        }
      ]
    },
    {
      "cell_type": "code",
      "source": [
        "client.fine_tuning.jobs.list(limit=10)"
      ],
      "metadata": {
        "colab": {
          "base_uri": "https://localhost:8080/"
        },
        "id": "mlS32stfhXch",
        "outputId": "09a622a8-a838-43ff-bf73-041bbfe6a27b"
      },
      "execution_count": 38,
      "outputs": [
        {
          "output_type": "execute_result",
          "data": {
            "text/plain": [
              "SyncCursorPage[FineTuningJob](data=[FineTuningJob(id='ftjob-BVJ1pyw1eUaykUhCqY6xR5VP', created_at=1702107506, error=None, fine_tuned_model=None, finished_at=None, hyperparameters=Hyperparameters(n_epochs=3, batch_size=1, learning_rate_multiplier=2), model='gpt-3.5-turbo-0613', object='fine_tuning.job', organization_id='org-eOujTwd2bK4aMqI7Oe49Tygg', result_files=[], status='running', trained_tokens=None, training_file='file-AtyWWLfHIXPKLCX9SgvZw0eO', validation_file=None)], object='list', has_more=False)"
            ]
          },
          "metadata": {},
          "execution_count": 38
        }
      ]
    },
    {
      "cell_type": "code",
      "source": [
        "modelid='ftjob-BVJ1pyw1eUaykUhCqY6xR5VP'"
      ],
      "metadata": {
        "id": "GMznVRWmhCdQ"
      },
      "execution_count": 40,
      "outputs": []
    },
    {
      "cell_type": "code",
      "source": [
        "client.fine_tuning.jobs.retrieve(modelid)"
      ],
      "metadata": {
        "colab": {
          "base_uri": "https://localhost:8080/"
        },
        "id": "ZTw3HSbbhqkp",
        "outputId": "3f211b67-6970-404b-e264-a399c960e5e5"
      },
      "execution_count": 43,
      "outputs": [
        {
          "output_type": "execute_result",
          "data": {
            "text/plain": [
              "FineTuningJob(id='ftjob-BVJ1pyw1eUaykUhCqY6xR5VP', created_at=1702107506, error=None, fine_tuned_model='ft:gpt-3.5-turbo-0613:daesungsanghoe::8TmSosUv', finished_at=1702108497, hyperparameters=Hyperparameters(n_epochs=3, batch_size=1, learning_rate_multiplier=2), model='gpt-3.5-turbo-0613', object='fine_tuning.job', organization_id='org-eOujTwd2bK4aMqI7Oe49Tygg', result_files=['file-ONoalZRFOfBtvZjDFzAgwknN'], status='succeeded', trained_tokens=195639, training_file='file-AtyWWLfHIXPKLCX9SgvZw0eO', validation_file=None)"
            ]
          },
          "metadata": {},
          "execution_count": 43
        }
      ]
    }
  ]
}