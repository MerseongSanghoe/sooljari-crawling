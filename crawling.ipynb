{
  "nbformat": 4,
  "nbformat_minor": 0,
  "metadata": {
    "colab": {
      "provenance": []
    },
    "kernelspec": {
      "name": "python3",
      "display_name": "Python 3"
    },
    "language_info": {
      "name": "python"
    }
  },
  "cells": [
    {
      "cell_type": "code",
      "execution_count": null,
      "metadata": {
        "id": "v_gVJ6EHoRAz"
      },
      "outputs": [],
      "source": [
        "import sys\n",
        "\n",
        "!sudo add-apt-repository ppa:saiarcot895/chromium-beta\n",
        "!sudo apt remove chromium-browser\n",
        "!sudo snap remove chromium\n",
        "!sudo apt install chromium-browser\n",
        "!pip install selenium\n",
        "!apt-get update\n",
        "!apt install chromium-chromedriver\n",
        "!cp /usr/lib/chromium-browser/chromedriver /usr/bin\n",
        "sys.path.insert(0,'/usr/lib/chromium-browser/chromedriver')\n"
      ]
    },
    {
      "cell_type": "code",
      "source": [
        "import time\n",
        "from selenium import webdriver\n",
        "from selenium.webdriver.common.by import By\n",
        "from bs4 import BeautifulSoup\n",
        "import requests\n",
        "from pandas import Series, DataFrame\n",
        "\n",
        "names=[]\n",
        "material=[]\n",
        "size=[]\n",
        "alcohol=[]\n",
        "description=[]\n",
        "\n",
        "for num in range(1,97):\n",
        "  url = 'https://thesool.com/front/find/M000000082/list.do?searchType=2&searchKey=&searchKind=&levelType=&searchString=&productId=&pageIndex='+str(num)+'&categoryNm=&kind=#'\n",
        "  header_info = {'User-Agent': 'Mozilla/5.0 (Windows NT 10.0; Win64; x64) AppleWebKit/537.36 (KHTML, like Gecko) Chrome/70.0.3538.102 Safari/537.36 Edge/18.19582'}\n",
        "  page = requests.get(url, headers = header_info)\n",
        "  page = page.text\n",
        "  soup = BeautifulSoup(page, 'html.parser')\n",
        "  infos=soup.find_all(attrs={'class':'info'})\n",
        "  cnt=0\n",
        "  print(num)\n",
        "  for items in infos:\n",
        "    cnt=cnt+1\n",
        "    if cnt%4==1:\n",
        "      #print(\"이름: \"+items.text.strip())\n",
        "      names.append(items.text.strip())\n",
        "    if cnt%4==2:\n",
        "      #print(\"주원료: \"+items.text.strip())\n",
        "      material.append(items.text.strip())\n",
        "    if cnt%4==3:\n",
        "      #print(\"규격/도수: \"+items.text.split('/')[0].strip()+\",\"+items.text.split('/')[1].strip())\n",
        "      size.append(items.text.split('/')[0].strip())\n",
        "      alcohol.append(items.text.split('/')[1].strip())\n",
        "    if cnt%4==0:\n",
        "      #print(\"설명: \"+items.text.strip())\n",
        "      description.append(items.text.strip())\n",
        "    if cnt==40:\n",
        "      break\n"
      ],
      "metadata": {
        "colab": {
          "base_uri": "https://localhost:8080/"
        },
        "id": "DcMPicx0oXVT",
        "outputId": "431d7375-4673-4904-96aa-a1e5cb202b9f"
      },
      "execution_count": 58,
      "outputs": [
        {
          "output_type": "stream",
          "name": "stdout",
          "text": [
            "97\n"
          ]
        }
      ]
    },
    {
      "cell_type": "code",
      "source": [
        "raw_data = {'이름': names,\n",
        "            '주원료': material,\n",
        "            '규격': size,\n",
        "            '도수': alcohol,\n",
        "            '설명': description\n",
        "            }\n",
        "data = DataFrame(raw_data)"
      ],
      "metadata": {
        "id": "xlzJYoXNxhJC"
      },
      "execution_count": 59,
      "outputs": []
    },
    {
      "cell_type": "code",
      "source": [
        "data.to_csv('thesool_data.csv')"
      ],
      "metadata": {
        "id": "e2yhEjA2x266"
      },
      "execution_count": 62,
      "outputs": []
    }
  ]
}